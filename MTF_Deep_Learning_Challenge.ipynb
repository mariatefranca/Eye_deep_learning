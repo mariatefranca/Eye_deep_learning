{
  "nbformat": 4,
  "nbformat_minor": 0,
  "metadata": {
    "colab": {
      "provenance": [],
      "toc_visible": true,
      "mount_file_id": "1BbVOX89JqD641N5JOMldQACbwXsMV1ok",
      "authorship_tag": "ABX9TyOriEFmL/UzaiJ5sV7YwPR7",
      "include_colab_link": true
    },
    "kernelspec": {
      "name": "python3",
      "display_name": "Python 3"
    },
    "language_info": {
      "name": "python"
    },
    "gpuClass": "premium",
    "accelerator": "GPU"
  },
  "cells": [
    {
      "cell_type": "markdown",
      "metadata": {
        "id": "view-in-github",
        "colab_type": "text"
      },
      "source": [
        "<a href=\"https://colab.research.google.com/github/mariatefranca/aiplanet_deep_learning/blob/main/MTF_Deep_Learning_Challenge.ipynb\" target=\"_parent\"><img src=\"https://colab.research.google.com/assets/colab-badge.svg\" alt=\"Open In Colab\"/></a>"
      ]
    },
    {
      "cell_type": "markdown",
      "source": [
        "# Problem Statement\n",
        "\n",
        "The anthropometric analysis of the human face is an essential study for performing craniofacial plastic and reconstructive surgeries. Facial anthropometrics are affected by various factors such as age, gender, ethnicity, socioeconomic status, environment, and region.  \n",
        "Plastic surgeons who undertake the repair and reconstruction of facial deformities find the anatomical dimensions of the facial structures useful for their surgeries. These dimensions are a result of the Physical or Facial appearance of an individual. Along with factors like culture, personality, ethnic background, age; eye appearance and symmetry contributes majorly to the facial appearance or aesthetics. \n"
      ],
      "metadata": {
        "id": "MoOAB4TA6442"
      }
    },
    {
      "cell_type": "markdown",
      "source": [
        "# Objective\n",
        "\n",
        "The objective is to build a model to scan the image of an eye of a patient and find if the gender of the patient is male or female."
      ],
      "metadata": {
        "id": "hjU8JOyI932l"
      }
    },
    {
      "cell_type": "markdown",
      "source": [
        "# About the Dataset\n",
        "\n",
        "The dataset that contains eye pictures of males and females. The zip file named ‘eye_gender_data.zip’ contains four files:\n",
        "\n",
        "   train - contains all the images that are to be used for training your model.   \n",
        "  Training_set.csv - this csv file has contains the labels for the training images   \n",
        "  test - contains 9000+ images. For these images you are required to make predictions   \n",
        "  Testing_set.csv - this is the order of the predictions for each image that is to be submitted on the platform. Make sure the predictions you submit are with their image’s filename in the same order as given in this file.   \n",
        "\n",
        "  sample_submission.csv- this is the sample submission file for the data sprint  \n",
        " "
      ],
      "metadata": {
        "id": "JcGYWJXZ80T-"
      }
    },
    {
      "cell_type": "markdown",
      "source": [
        "Download the images\n",
        "\n",
        "We can use GoogleDriveDownloader form google_drive_downloader library in Python to download the shared files from the shared Google drive link: https://drive.google.com/file/d/1f7uslI-ZHidriQFZR966_aILjlkgDN76/view?usp=sharing\n",
        "\n",
        "The file id in the above link is: 1f7uslI-ZHidriQFZR966_aILjlkgDN76"
      ],
      "metadata": {
        "id": "UvIloXlK-mvC"
      }
    },
    {
      "cell_type": "markdown",
      "source": [
        "# Importing libraries"
      ],
      "metadata": {
        "id": "IcKcn1g0__W1"
      }
    },
    {
      "cell_type": "code",
      "source": [
        "import pandas as pd                                     # Data analysis and manipulation tool\n",
        "import numpy as np                                      # Fundamental package for linear algebra and multidimensional arrays\n",
        "import tensorflow as tf                                 # Deep Learning Tool\n",
        "import os                                               # OS module in Python provides a way of using operating system dependent functionality\n",
        "import cv2                                              # Library for image processing\n",
        "from sklearn.model_selection import train_test_split    # For splitting the data into train and validation set\n",
        "from tensorflow.keras.layers import Dense, BatchNormalization\n",
        "from sklearn.metrics import f1_score\n",
        "from datetime import datetime "
      ],
      "metadata": {
        "id": "Gasg7bpC_nDV"
      },
      "execution_count": null,
      "outputs": []
    },
    {
      "cell_type": "code",
      "execution_count": null,
      "metadata": {
        "colab": {
          "base_uri": "https://localhost:8080/"
        },
        "id": "23TOba33L4qf",
        "outputId": "91a642f9-021f-4a97-cdf7-207b4f26fb55"
      },
      "outputs": [
        {
          "output_type": "stream",
          "name": "stdout",
          "text": [
            "Fri Jan 20 13:31:43 2023       \n",
            "+-----------------------------------------------------------------------------+\n",
            "| NVIDIA-SMI 460.32.03    Driver Version: 460.32.03    CUDA Version: 11.2     |\n",
            "|-------------------------------+----------------------+----------------------+\n",
            "| GPU  Name        Persistence-M| Bus-Id        Disp.A | Volatile Uncorr. ECC |\n",
            "| Fan  Temp  Perf  Pwr:Usage/Cap|         Memory-Usage | GPU-Util  Compute M. |\n",
            "|                               |                      |               MIG M. |\n",
            "|===============================+======================+======================|\n",
            "|   0  A100-SXM4-40GB      Off  | 00000000:00:04.0 Off |                    0 |\n",
            "| N/A   30C    P0    54W / 400W |      0MiB / 40536MiB |      0%      Default |\n",
            "|                               |                      |             Disabled |\n",
            "+-------------------------------+----------------------+----------------------+\n",
            "                                                                               \n",
            "+-----------------------------------------------------------------------------+\n",
            "| Processes:                                                                  |\n",
            "|  GPU   GI   CI        PID   Type   Process name                  GPU Memory |\n",
            "|        ID   ID                                                   Usage      |\n",
            "|=============================================================================|\n",
            "|  No running processes found                                                 |\n",
            "+-----------------------------------------------------------------------------+\n"
          ]
        }
      ],
      "source": [
        "gpu_info = !nvidia-smi\n",
        "gpu_info = '\\n'.join(gpu_info)\n",
        "if gpu_info.find('failed') >= 0:\n",
        "  print('Not connected to a GPU')\n",
        "else:\n",
        "  print(gpu_info)"
      ]
    },
    {
      "cell_type": "markdown",
      "source": [
        "# Loading and preparing training data"
      ],
      "metadata": {
        "id": "-0xDKxavAWWu"
      }
    },
    {
      "cell_type": "code",
      "source": [
        "from google.colab import drive\n",
        "drive.mount('/content/drive')"
      ],
      "metadata": {
        "colab": {
          "base_uri": "https://localhost:8080/"
        },
        "id": "Bxq18HaTFl_l",
        "outputId": "d5293796-1eda-405f-d283-df2ee89b4480"
      },
      "execution_count": null,
      "outputs": [
        {
          "output_type": "stream",
          "name": "stdout",
          "text": [
            "Drive already mounted at /content/drive; to attempt to forcibly remount, call drive.mount(\"/content/drive\", force_remount=True).\n"
          ]
        }
      ]
    },
    {
      "cell_type": "code",
      "source": [
        "start_time = datetime.now()\n",
        "\n",
        "labels = pd.read_csv(\"/content/drive/MyDrive/eye_gender_data/Training_set.csv\")   # Loading the labels\n",
        "file_paths = [[fname, '/content/drive/MyDrive/eye_gender_data/train/' + fname] for fname in labels['filename']]\n",
        "images = pd.DataFrame(file_paths, columns=['filename', 'filepaths'])\n",
        "train_data = pd.merge(images, labels, how = 'inner', on = 'filename')\n",
        "\n",
        "data = []     # Initializing an empty numpy array\n",
        "image_size = 100      # SEtting 100 as image size\n",
        "for i in range(len(train_data)):\n",
        "  img_array = cv2.imread(train_data['filepaths'][i], cv2.IMREAD_GRAYSCALE)   # Converting the image to gray scale\n",
        "  new_img_array = cv2.resize(img_array, (image_size, image_size))      # Resizing the image array\n",
        "  data.append([new_img_array, train_data['label'][i]])\n",
        "\n",
        "end_time = datetime.now()\n",
        "print('Duration: {}'.format(end_time - start_time))"
      ],
      "metadata": {
        "id": "Iho6UFFTABms",
        "colab": {
          "base_uri": "https://localhost:8080/"
        },
        "outputId": "e071e383-ab35-4ff0-968e-dc8263770b3c"
      },
      "execution_count": null,
      "outputs": [
        {
          "output_type": "stream",
          "name": "stdout",
          "text": [
            "Duration: 1:13:52.888052\n"
          ]
        }
      ]
    },
    {
      "cell_type": "code",
      "source": [
        "eyes_data = data.copy()"
      ],
      "metadata": {
        "id": "GrNEUcteRBEf"
      },
      "execution_count": null,
      "outputs": []
    },
    {
      "cell_type": "code",
      "source": [
        "type(eyes_data) #Checking the type of 'eye_data'"
      ],
      "metadata": {
        "id": "WNnTgjA3RYeh",
        "colab": {
          "base_uri": "https://localhost:8080/"
        },
        "outputId": "106fa0b9-e1fb-4259-c46a-47127947ad18"
      },
      "execution_count": null,
      "outputs": [
        {
          "output_type": "execute_result",
          "data": {
            "text/plain": [
              "list"
            ]
          },
          "metadata": {},
          "execution_count": 6
        }
      ]
    },
    {
      "cell_type": "code",
      "source": [
        "len(eyes_data[0][0]) # Checking the lenght of array of the image"
      ],
      "metadata": {
        "id": "U5prYH6iQiDs",
        "colab": {
          "base_uri": "https://localhost:8080/"
        },
        "outputId": "ff733ce5-ed23-4f19-818f-c9687f9576f9"
      },
      "execution_count": null,
      "outputs": [
        {
          "output_type": "execute_result",
          "data": {
            "text/plain": [
              "100"
            ]
          },
          "metadata": {},
          "execution_count": 7
        }
      ]
    },
    {
      "cell_type": "code",
      "source": [
        "eyes_data[0]"
      ],
      "metadata": {
        "id": "zk4CvL4vJewq",
        "colab": {
          "base_uri": "https://localhost:8080/"
        },
        "outputId": "cb5683e2-fce5-4b9b-b4ec-6b1c21101e14"
      },
      "execution_count": null,
      "outputs": [
        {
          "output_type": "execute_result",
          "data": {
            "text/plain": [
              "[array([[188, 188, 189, ..., 176, 175, 175],\n",
              "        [189, 189, 188, ..., 174, 173, 172],\n",
              "        [190, 189, 188, ..., 168, 167, 167],\n",
              "        ...,\n",
              "        [133, 137, 144, ..., 168, 167, 166],\n",
              "        [134, 138, 145, ..., 165, 164, 163],\n",
              "        [135, 139, 146, ..., 163, 162, 162]], dtype=uint8), 'male']"
            ]
          },
          "metadata": {},
          "execution_count": 8
        }
      ]
    },
    {
      "cell_type": "code",
      "source": [
        "eyes_data = pd.DataFrame(eyes_data)"
      ],
      "metadata": {
        "id": "F8RjniFjRzd6"
      },
      "execution_count": null,
      "outputs": []
    },
    {
      "cell_type": "code",
      "source": [
        "import matplotlib.pyplot as plt # For data visualization \n",
        "# Displaying an image from the file\n",
        "img_bgr = cv2.imread('/content/drive/MyDrive/eye_gender_data/train/Image_2.jpg')\n",
        "img_rgb = cv2.cvtColor(img_bgr, cv2.COLOR_BGR2RGB)\n",
        "plt.imshow(img_rgb)\n",
        "plt.show()"
      ],
      "metadata": {
        "id": "AdJu9IZWae-j",
        "colab": {
          "base_uri": "https://localhost:8080/",
          "height": 267
        },
        "outputId": "32453c45-f310-44ee-cd7c-f502422b1e9f"
      },
      "execution_count": null,
      "outputs": [
        {
          "output_type": "display_data",
          "data": {
            "text/plain": [
              "<Figure size 432x288 with 1 Axes>"
            ],
            "image/png": "[encoded data removed]"
          },
          "metadata": {
            "needs_background": "light"
          }
        }
      ]
    },
    {
      "cell_type": "markdown",
      "source": [
        "# Data Pre-processing\n",
        "\n",
        "Bringing all the images in the same shape and size, also converting them to their pixel values because all machine learning or deep learning models accepts only the numerical data. Also it is required to convert all the labels from categorical to numerical values.\n"
      ],
      "metadata": {
        "id": "EihXgujtQOGw"
      }
    },
    {
      "cell_type": "markdown",
      "source": [
        "Converting the categorical output data to a numerical data   \n",
        "\n",
        "male = 0\n",
        "female = 1\n",
        "\n",
        "---\n",
        "\n"
      ],
      "metadata": {
        "id": "mGCO-Jun1G-E"
      }
    },
    {
      "cell_type": "code",
      "source": [
        "# Creating a new column to transform the categorival output in numerical values\n",
        "eyes_data[2] = eyes_data[1].apply(lambda x: 1 if x == 'female' else 0)\n",
        "eyes_data"
      ],
      "metadata": {
        "id": "ZEiaY9cO68r_",
        "colab": {
          "base_uri": "https://localhost:8080/",
          "height": 424
        },
        "outputId": "29cd57e6-26bd-4e53-d05d-fc470d5a36cd"
      },
      "execution_count": null,
      "outputs": [
        {
          "output_type": "execute_result",
          "data": {
            "text/plain": [
              "                                                      0       1  2\n",
              "0     [[188, 188, 189, 189, 190, 186, 180, 182, 185,...    male  0\n",
              "1     [[167, 169, 173, 177, 181, 179, 178, 175, 175,...  female  1\n",
              "2     [[181, 179, 177, 176, 175, 175, 175, 175, 173,...  female  1\n",
              "3     [[98, 97, 97, 97, 98, 104, 108, 110, 111, 112,...  female  1\n",
              "4     [[177, 180, 180, 173, 174, 172, 168, 171, 170,...    male  0\n",
              "...                                                 ...     ... ..\n",
              "9215  [[197, 197, 197, 197, 197, 196, 196, 195, 195,...    male  0\n",
              "9216  [[158, 159, 164, 168, 169, 170, 169, 165, 165,...    male  0\n",
              "9217  [[189, 190, 192, 182, 176, 178, 177, 175, 162,...    male  0\n",
              "9218  [[143, 142, 140, 139, 137, 135, 137, 139, 138,...    male  0\n",
              "9219  [[225, 225, 225, 226, 227, 227, 225, 223, 222,...  female  1\n",
              "\n",
              "[9220 rows x 3 columns]"
            ],
            "text/html": [
              "\n",
              "  <div id=\"df-5458ff72-fbcf-40b6-ac50-675d6263a98b\">\n",
              "    <div class=\"colab-df-container\">\n",
              "      <div>\n",
              "<style scoped>\n",
              "    .dataframe tbody tr th:only-of-type {\n",
              "        vertical-align: middle;\n",
              "    }\n",
              "\n",
              "    .dataframe tbody tr th {\n",
              "        vertical-align: top;\n",
              "    }\n",
              "\n",
              "    .dataframe thead th {\n",
              "        text-align: right;\n",
              "    }\n",
              "</style>\n",
              "<table border=\"1\" class=\"dataframe\">\n",
              "  <thead>\n",
              "    <tr style=\"text-align: right;\">\n",
              "      <th></th>\n",
              "      <th>0</th>\n",
              "      <th>1</th>\n",
              "      <th>2</th>\n",
              "    </tr>\n",
              "  </thead>\n",
              "  <tbody>\n",
              "    <tr>\n",
              "      <th>0</th>\n",
              "      <td>[[188, 188, 189, 189, 190, 186, 180, 182, 185,...</td>\n",
              "      <td>male</td>\n",
              "      <td>0</td>\n",
              "    </tr>\n",
              "    <tr>\n",
              "      <th>1</th>\n",
              "      <td>[[167, 169, 173, 177, 181, 179, 178, 175, 175,...</td>\n",
              "      <td>female</td>\n",
              "      <td>1</td>\n",
              "    </tr>\n",
              "    <tr>\n",
              "      <th>2</th>\n",
              "      <td>[[181, 179, 177, 176, 175, 175, 175, 175, 173,...</td>\n",
              "      <td>female</td>\n",
              "      <td>1</td>\n",
              "    </tr>\n",
              "    <tr>\n",
              "      <th>3</th>\n",
              "      <td>[[98, 97, 97, 97, 98, 104, 108, 110, 111, 112,...</td>\n",
              "      <td>female</td>\n",
              "      <td>1</td>\n",
              "    </tr>\n",
              "    <tr>\n",
              "      <th>4</th>\n",
              "      <td>[[177, 180, 180, 173, 174, 172, 168, 171, 170,...</td>\n",
              "      <td>male</td>\n",
              "      <td>0</td>\n",
              "    </tr>\n",
              "    <tr>\n",
              "      <th>...</th>\n",
              "      <td>...</td>\n",
              "      <td>...</td>\n",
              "      <td>...</td>\n",
              "    </tr>\n",
              "    <tr>\n",
              "      <th>9215</th>\n",
              "      <td>[[197, 197, 197, 197, 197, 196, 196, 195, 195,...</td>\n",
              "      <td>male</td>\n",
              "      <td>0</td>\n",
              "    </tr>\n",
              "    <tr>\n",
              "      <th>9216</th>\n",
              "      <td>[[158, 159, 164, 168, 169, 170, 169, 165, 165,...</td>\n",
              "      <td>male</td>\n",
              "      <td>0</td>\n",
              "    </tr>\n",
              "    <tr>\n",
              "      <th>9217</th>\n",
              "      <td>[[189, 190, 192, 182, 176, 178, 177, 175, 162,...</td>\n",
              "      <td>male</td>\n",
              "      <td>0</td>\n",
              "    </tr>\n",
              "    <tr>\n",
              "      <th>9218</th>\n",
              "      <td>[[143, 142, 140, 139, 137, 135, 137, 139, 138,...</td>\n",
              "      <td>male</td>\n",
              "      <td>0</td>\n",
              "    </tr>\n",
              "    <tr>\n",
              "      <th>9219</th>\n",
              "      <td>[[225, 225, 225, 226, 227, 227, 225, 223, 222,...</td>\n",
              "      <td>female</td>\n",
              "      <td>1</td>\n",
              "    </tr>\n",
              "  </tbody>\n",
              "</table>\n",
              "<p>9220 rows × 3 columns</p>\n",
              "</div>\n",
              "      <button class=\"colab-df-convert\" onclick=\"convertToInteractive('df-5458ff72-fbcf-40b6-ac50-675d6263a98b')\"\n",
              "              title=\"Convert this dataframe to an interactive table.\"\n",
              "              style=\"display:none;\">\n",
              "        \n",
              "  <svg xmlns=\"http://www.w3.org/2000/svg\" height=\"24px\"viewBox=\"0 0 24 24\"\n",
              "       width=\"24px\">\n",
              "    <path d=\"M0 0h24v24H0V0z\" fill=\"none\"/>\n",
              "    <path d=\"M18.56 5.44l.94 2.06.94-2.06 2.06-.94-2.06-.94-.94-2.06-.94 2.06-2.06.94zm-11 1L8.5 8.5l.94-2.06 2.06-.94-2.06-.94L8.5 2.5l-.94 2.06-2.06.94zm10 10l.94 2.06.94-2.06 2.06-.94-2.06-.94-.94-2.06-.94 2.06-2.06.94z\"/><path d=\"M17.41 7.96l-1.37-1.37c-.4-.4-.92-.59-1.43-.59-.52 0-1.04.2-1.43.59L10.3 9.45l-7.72 7.72c-.78.78-.78 2.05 0 2.83L4 21.41c.39.39.9.59 1.41.59.51 0 1.02-.2 1.41-.59l7.78-7.78 2.81-2.81c.8-.78.8-2.07 0-2.86zM5.41 20L4 18.59l7.72-7.72 1.47 1.35L5.41 20z\"/>\n",
              "  </svg>\n",
              "      </button>\n",
              "      \n",
              "  <style>\n",
              "    .colab-df-container {\n",
              "      display:flex;\n",
              "      flex-wrap:wrap;\n",
              "      gap: 12px;\n",
              "    }\n",
              "\n",
              "    .colab-df-convert {\n",
              "      background-color: #E8F0FE;\n",
              "      border: none;\n",
              "      border-radius: 50%;\n",
              "      cursor: pointer;\n",
              "      display: none;\n",
              "      fill: #1967D2;\n",
              "      height: 32px;\n",
              "      padding: 0 0 0 0;\n",
              "      width: 32px;\n",
              "    }\n",
              "\n",
              "    .colab-df-convert:hover {\n",
              "      background-color: #E2EBFA;\n",
              "      box-shadow: 0px 1px 2px rgba(60, 64, 67, 0.3), 0px 1px 3px 1px rgba(60, 64, 67, 0.15);\n",
              "      fill: #174EA6;\n",
              "    }\n",
              "\n",
              "    [theme=dark] .colab-df-convert {\n",
              "      background-color: #3B4455;\n",
              "      fill: #D2E3FC;\n",
              "    }\n",
              "\n",
              "    [theme=dark] .colab-df-convert:hover {\n",
              "      background-color: #434B5C;\n",
              "      box-shadow: 0px 1px 3px 1px rgba(0, 0, 0, 0.15);\n",
              "      filter: drop-shadow(0px 1px 2px rgba(0, 0, 0, 0.3));\n",
              "      fill: #FFFFFF;\n",
              "    }\n",
              "  </style>\n",
              "\n",
              "      <script>\n",
              "        const buttonEl =\n",
              "          document.querySelector('#df-5458ff72-fbcf-40b6-ac50-675d6263a98b button.colab-df-convert');\n",
              "        buttonEl.style.display =\n",
              "          google.colab.kernel.accessAllowed ? 'block' : 'none';\n",
              "\n",
              "        async function convertToInteractive(key) {\n",
              "          const element = document.querySelector('#df-5458ff72-fbcf-40b6-ac50-675d6263a98b');\n",
              "          const dataTable =\n",
              "            await google.colab.kernel.invokeFunction('convertToInteractive',\n",
              "                                                     [key], {});\n",
              "          if (!dataTable) return;\n",
              "\n",
              "          const docLinkHtml = 'Like what you see? Visit the ' +\n",
              "            '<a target=\"_blank\" href=https://colab.research.google.com/notebooks/data_table.ipynb>data table notebook</a>'\n",
              "            + ' to learn more about interactive tables.';\n",
              "          element.innerHTML = '';\n",
              "          dataTable['output_type'] = 'display_data';\n",
              "          await google.colab.output.renderOutput(dataTable, element);\n",
              "          const docLink = document.createElement('div');\n",
              "          docLink.innerHTML = docLinkHtml;\n",
              "          element.appendChild(docLink);\n",
              "        }\n",
              "      </script>\n",
              "    </div>\n",
              "  </div>\n",
              "  "
            ]
          },
          "metadata": {},
          "execution_count": 11
        }
      ]
    },
    {
      "cell_type": "code",
      "source": [
        "eyes_data[2].value_counts() # Counting the number of 0 and 1 values"
      ],
      "metadata": {
        "id": "6olnDRyaPHLj",
        "colab": {
          "base_uri": "https://localhost:8080/"
        },
        "outputId": "40961065-02f2-445c-8e4c-9800acbd95ea"
      },
      "execution_count": null,
      "outputs": [
        {
          "output_type": "execute_result",
          "data": {
            "text/plain": [
              "0    5058\n",
              "1    4162\n",
              "Name: 2, dtype: int64"
            ]
          },
          "metadata": {},
          "execution_count": 12
        }
      ]
    },
    {
      "cell_type": "code",
      "source": [
        "eyes_data[1].value_counts() # Counting the number of 'male' and 'female' values"
      ],
      "metadata": {
        "id": "TcmWGTaQc6hF",
        "colab": {
          "base_uri": "https://localhost:8080/"
        },
        "outputId": "418873b3-8886-431b-d0c7-9bc00fdbc7d6"
      },
      "execution_count": null,
      "outputs": [
        {
          "output_type": "execute_result",
          "data": {
            "text/plain": [
              "male      5058\n",
              "female    4162\n",
              "Name: 1, dtype: int64"
            ]
          },
          "metadata": {},
          "execution_count": 13
        }
      ]
    },
    {
      "cell_type": "code",
      "source": [
        "# Separating the data into imput and output variables\n",
        "images = eyes_data.drop([1,2], axis = 1)\n",
        "labels_num = eyes_data[2]"
      ],
      "metadata": {
        "id": "ydMHOxlh5gEU"
      },
      "execution_count": null,
      "outputs": []
    },
    {
      "cell_type": "code",
      "source": [
        "images, images.shape, images[0][0].shape"
      ],
      "metadata": {
        "id": "ZkjqntmV6jFQ",
        "colab": {
          "base_uri": "https://localhost:8080/"
        },
        "outputId": "5373149a-7768-40f7-cbaa-f587cf8adffe"
      },
      "execution_count": null,
      "outputs": [
        {
          "output_type": "execute_result",
          "data": {
            "text/plain": [
              "(                                                      0\n",
              " 0     [[188, 188, 189, 189, 190, 186, 180, 182, 185,...\n",
              " 1     [[167, 169, 173, 177, 181, 179, 178, 175, 175,...\n",
              " 2     [[181, 179, 177, 176, 175, 175, 175, 175, 173,...\n",
              " 3     [[98, 97, 97, 97, 98, 104, 108, 110, 111, 112,...\n",
              " 4     [[177, 180, 180, 173, 174, 172, 168, 171, 170,...\n",
              " ...                                                 ...\n",
              " 9215  [[197, 197, 197, 197, 197, 196, 196, 195, 195,...\n",
              " 9216  [[158, 159, 164, 168, 169, 170, 169, 165, 165,...\n",
              " 9217  [[189, 190, 192, 182, 176, 178, 177, 175, 162,...\n",
              " 9218  [[143, 142, 140, 139, 137, 135, 137, 139, 138,...\n",
              " 9219  [[225, 225, 225, 226, 227, 227, 225, 223, 222,...\n",
              " \n",
              " [9220 rows x 1 columns], (9220, 1), (100, 100))"
            ]
          },
          "metadata": {},
          "execution_count": 15
        }
      ]
    },
    {
      "cell_type": "code",
      "source": [
        "labels_num, labels_num.shape"
      ],
      "metadata": {
        "id": "2h7QbZbIdP8L",
        "colab": {
          "base_uri": "https://localhost:8080/"
        },
        "outputId": "826a4e56-7c8d-47bd-c829-2f1a64b55226"
      },
      "execution_count": null,
      "outputs": [
        {
          "output_type": "execute_result",
          "data": {
            "text/plain": [
              "(0       0\n",
              " 1       1\n",
              " 2       1\n",
              " 3       1\n",
              " 4       0\n",
              "        ..\n",
              " 9215    0\n",
              " 9216    0\n",
              " 9217    0\n",
              " 9218    0\n",
              " 9219    1\n",
              " Name: 2, Length: 9220, dtype: int64, (9220,))"
            ]
          },
          "metadata": {},
          "execution_count": 16
        }
      ]
    },
    {
      "cell_type": "code",
      "source": [
        "y = np.array(labels_num)"
      ],
      "metadata": {
        "id": "xy3FWzMgTuO0"
      },
      "execution_count": null,
      "outputs": []
    },
    {
      "cell_type": "code",
      "source": [
        "y, y.shape # Checking the shape of y"
      ],
      "metadata": {
        "id": "DEnwmyPsOQdb",
        "colab": {
          "base_uri": "https://localhost:8080/"
        },
        "outputId": "fc443224-5121-4099-ce01-413c7ad1630f"
      },
      "execution_count": null,
      "outputs": [
        {
          "output_type": "execute_result",
          "data": {
            "text/plain": [
              "(array([0, 1, 1, ..., 0, 0, 1]), (9220,))"
            ]
          },
          "metadata": {},
          "execution_count": 18
        }
      ]
    },
    {
      "cell_type": "code",
      "source": [
        "# Normalizing the imput data\n",
        "images_norm = images/255\n",
        "images_norm"
      ],
      "metadata": {
        "id": "-G8QWLSe0YQo",
        "colab": {
          "base_uri": "https://localhost:8080/",
          "height": 424
        },
        "outputId": "93ed3146-0823-47fd-ccbe-d4710d90949a"
      },
      "execution_count": null,
      "outputs": [
        {
          "output_type": "execute_result",
          "data": {
            "text/plain": [
              "                                                      0\n",
              "0     [[0.7372549019607844, 0.7372549019607844, 0.74...\n",
              "1     [[0.6549019607843137, 0.6627450980392157, 0.67...\n",
              "2     [[0.7098039215686275, 0.7019607843137254, 0.69...\n",
              "3     [[0.3843137254901961, 0.3803921568627451, 0.38...\n",
              "4     [[0.6941176470588235, 0.7058823529411765, 0.70...\n",
              "...                                                 ...\n",
              "9215  [[0.7725490196078432, 0.7725490196078432, 0.77...\n",
              "9216  [[0.6196078431372549, 0.6235294117647059, 0.64...\n",
              "9217  [[0.7411764705882353, 0.7450980392156863, 0.75...\n",
              "9218  [[0.5607843137254902, 0.5568627450980392, 0.54...\n",
              "9219  [[0.8823529411764706, 0.8823529411764706, 0.88...\n",
              "\n",
              "[9220 rows x 1 columns]"
            ],
            "text/html": [
              "\n",
              "  <div id=\"df-7c23f922-8db8-483b-b2a5-7ef6af317348\">\n",
              "    <div class=\"colab-df-container\">\n",
              "      <div>\n",
              "<style scoped>\n",
              "    .dataframe tbody tr th:only-of-type {\n",
              "        vertical-align: middle;\n",
              "    }\n",
              "\n",
              "    .dataframe tbody tr th {\n",
              "        vertical-align: top;\n",
              "    }\n",
              "\n",
              "    .dataframe thead th {\n",
              "        text-align: right;\n",
              "    }\n",
              "</style>\n",
              "<table border=\"1\" class=\"dataframe\">\n",
              "  <thead>\n",
              "    <tr style=\"text-align: right;\">\n",
              "      <th></th>\n",
              "      <th>0</th>\n",
              "    </tr>\n",
              "  </thead>\n",
              "  <tbody>\n",
              "    <tr>\n",
              "      <th>0</th>\n",
              "      <td>[[0.7372549019607844, 0.7372549019607844, 0.74...</td>\n",
              "    </tr>\n",
              "    <tr>\n",
              "      <th>1</th>\n",
              "      <td>[[0.6549019607843137, 0.6627450980392157, 0.67...</td>\n",
              "    </tr>\n",
              "    <tr>\n",
              "      <th>2</th>\n",
              "      <td>[[0.7098039215686275, 0.7019607843137254, 0.69...</td>\n",
              "    </tr>\n",
              "    <tr>\n",
              "      <th>3</th>\n",
              "      <td>[[0.3843137254901961, 0.3803921568627451, 0.38...</td>\n",
              "    </tr>\n",
              "    <tr>\n",
              "      <th>4</th>\n",
              "      <td>[[0.6941176470588235, 0.7058823529411765, 0.70...</td>\n",
              "    </tr>\n",
              "    <tr>\n",
              "      <th>...</th>\n",
              "      <td>...</td>\n",
              "    </tr>\n",
              "    <tr>\n",
              "      <th>9215</th>\n",
              "      <td>[[0.7725490196078432, 0.7725490196078432, 0.77...</td>\n",
              "    </tr>\n",
              "    <tr>\n",
              "      <th>9216</th>\n",
              "      <td>[[0.6196078431372549, 0.6235294117647059, 0.64...</td>\n",
              "    </tr>\n",
              "    <tr>\n",
              "      <th>9217</th>\n",
              "      <td>[[0.7411764705882353, 0.7450980392156863, 0.75...</td>\n",
              "    </tr>\n",
              "    <tr>\n",
              "      <th>9218</th>\n",
              "      <td>[[0.5607843137254902, 0.5568627450980392, 0.54...</td>\n",
              "    </tr>\n",
              "    <tr>\n",
              "      <th>9219</th>\n",
              "      <td>[[0.8823529411764706, 0.8823529411764706, 0.88...</td>\n",
              "    </tr>\n",
              "  </tbody>\n",
              "</table>\n",
              "<p>9220 rows × 1 columns</p>\n",
              "</div>\n",
              "      <button class=\"colab-df-convert\" onclick=\"convertToInteractive('df-7c23f922-8db8-483b-b2a5-7ef6af317348')\"\n",
              "              title=\"Convert this dataframe to an interactive table.\"\n",
              "              style=\"display:none;\">\n",
              "        \n",
              "  <svg xmlns=\"http://www.w3.org/2000/svg\" height=\"24px\"viewBox=\"0 0 24 24\"\n",
              "       width=\"24px\">\n",
              "    <path d=\"M0 0h24v24H0V0z\" fill=\"none\"/>\n",
              "    <path d=\"M18.56 5.44l.94 2.06.94-2.06 2.06-.94-2.06-.94-.94-2.06-.94 2.06-2.06.94zm-11 1L8.5 8.5l.94-2.06 2.06-.94-2.06-.94L8.5 2.5l-.94 2.06-2.06.94zm10 10l.94 2.06.94-2.06 2.06-.94-2.06-.94-.94-2.06-.94 2.06-2.06.94z\"/><path d=\"M17.41 7.96l-1.37-1.37c-.4-.4-.92-.59-1.43-.59-.52 0-1.04.2-1.43.59L10.3 9.45l-7.72 7.72c-.78.78-.78 2.05 0 2.83L4 21.41c.39.39.9.59 1.41.59.51 0 1.02-.2 1.41-.59l7.78-7.78 2.81-2.81c.8-.78.8-2.07 0-2.86zM5.41 20L4 18.59l7.72-7.72 1.47 1.35L5.41 20z\"/>\n",
              "  </svg>\n",
              "      </button>\n",
              "      \n",
              "  <style>\n",
              "    .colab-df-container {\n",
              "      display:flex;\n",
              "      flex-wrap:wrap;\n",
              "      gap: 12px;\n",
              "    }\n",
              "\n",
              "    .colab-df-convert {\n",
              "      background-color: #E8F0FE;\n",
              "      border: none;\n",
              "      border-radius: 50%;\n",
              "      cursor: pointer;\n",
              "      display: none;\n",
              "      fill: #1967D2;\n",
              "      height: 32px;\n",
              "      padding: 0 0 0 0;\n",
              "      width: 32px;\n",
              "    }\n",
              "\n",
              "    .colab-df-convert:hover {\n",
              "      background-color: #E2EBFA;\n",
              "      box-shadow: 0px 1px 2px rgba(60, 64, 67, 0.3), 0px 1px 3px 1px rgba(60, 64, 67, 0.15);\n",
              "      fill: #174EA6;\n",
              "    }\n",
              "\n",
              "    [theme=dark] .colab-df-convert {\n",
              "      background-color: #3B4455;\n",
              "      fill: #D2E3FC;\n",
              "    }\n",
              "\n",
              "    [theme=dark] .colab-df-convert:hover {\n",
              "      background-color: #434B5C;\n",
              "      box-shadow: 0px 1px 3px 1px rgba(0, 0, 0, 0.15);\n",
              "      filter: drop-shadow(0px 1px 2px rgba(0, 0, 0, 0.3));\n",
              "      fill: #FFFFFF;\n",
              "    }\n",
              "  </style>\n",
              "\n",
              "      <script>\n",
              "        const buttonEl =\n",
              "          document.querySelector('#df-7c23f922-8db8-483b-b2a5-7ef6af317348 button.colab-df-convert');\n",
              "        buttonEl.style.display =\n",
              "          google.colab.kernel.accessAllowed ? 'block' : 'none';\n",
              "\n",
              "        async function convertToInteractive(key) {\n",
              "          const element = document.querySelector('#df-7c23f922-8db8-483b-b2a5-7ef6af317348');\n",
              "          const dataTable =\n",
              "            await google.colab.kernel.invokeFunction('convertToInteractive',\n",
              "                                                     [key], {});\n",
              "          if (!dataTable) return;\n",
              "\n",
              "          const docLinkHtml = 'Like what you see? Visit the ' +\n",
              "            '<a target=\"_blank\" href=https://colab.research.google.com/notebooks/data_table.ipynb>data table notebook</a>'\n",
              "            + ' to learn more about interactive tables.';\n",
              "          element.innerHTML = '';\n",
              "          dataTable['output_type'] = 'display_data';\n",
              "          await google.colab.output.renderOutput(dataTable, element);\n",
              "          const docLink = document.createElement('div');\n",
              "          docLink.innerHTML = docLinkHtml;\n",
              "          element.appendChild(docLink);\n",
              "        }\n",
              "      </script>\n",
              "    </div>\n",
              "  </div>\n",
              "  "
            ]
          },
          "metadata": {},
          "execution_count": 19
        }
      ]
    },
    {
      "cell_type": "code",
      "source": [
        "X = np.zeros((len(images_norm[0]), images_norm[0][0].shape[0], images_norm[0][0].shape[1]))\n",
        "\n",
        "for i, img in enumerate(images_norm[0]):\n",
        "    X[i, : , :] = img"
      ],
      "metadata": {
        "id": "X8hjMmWDASfX"
      },
      "execution_count": null,
      "outputs": []
    },
    {
      "cell_type": "code",
      "source": [
        "X.shape"
      ],
      "metadata": {
        "id": "0RFLKoyiTV1m",
        "colab": {
          "base_uri": "https://localhost:8080/"
        },
        "outputId": "dc9c7917-0243-4e28-d9ad-91a84c21bd9e"
      },
      "execution_count": null,
      "outputs": [
        {
          "output_type": "execute_result",
          "data": {
            "text/plain": [
              "(9220, 100, 100)"
            ]
          },
          "metadata": {},
          "execution_count": 21
        }
      ]
    },
    {
      "cell_type": "code",
      "source": [
        "# Displaying an image after dataset type conversion\n",
        "plt.imshow(X[1])\n",
        "plt.title(label=y[1])\n",
        "plt.show()"
      ],
      "metadata": {
        "id": "-6GYm8pwBMeq",
        "colab": {
          "base_uri": "https://localhost:8080/",
          "height": 281
        },
        "outputId": "944a2f8a-9227-4dfa-bf29-d2e2894a3b03"
      },
      "execution_count": null,
      "outputs": [
        {
          "output_type": "display_data",
          "data": {
            "text/plain": [
              "<Figure size 432x288 with 1 Axes>"
            ],
            "image/png": "[encoded data removed]"
          },
          "metadata": {
            "needs_background": "light"
          }
        }
      ]
    },
    {
      "cell_type": "code",
      "source": [
        "X = X.reshape(9220, 100, 100, 1)\n",
        "X.shape"
      ],
      "metadata": {
        "id": "nsxMu8x8YKwD",
        "colab": {
          "base_uri": "https://localhost:8080/"
        },
        "outputId": "62768c57-b8db-47c6-adb0-6795d7a8e72a"
      },
      "execution_count": null,
      "outputs": [
        {
          "output_type": "execute_result",
          "data": {
            "text/plain": [
              "(9220, 100, 100, 1)"
            ]
          },
          "metadata": {},
          "execution_count": 23
        }
      ]
    },
    {
      "cell_type": "code",
      "source": [
        "# Splitting the data into Train and Validation data\n",
        "X_train, X_val, y_train, y_val = train_test_split(X, y, test_size=0.2, random_state=42)"
      ],
      "metadata": {
        "id": "bMqmPEbWpNCK"
      },
      "execution_count": null,
      "outputs": []
    },
    {
      "cell_type": "code",
      "source": [
        "X_train.shape"
      ],
      "metadata": {
        "id": "jDGaO-ROuzuA",
        "colab": {
          "base_uri": "https://localhost:8080/"
        },
        "outputId": "cc0bab86-ec8c-4c9e-a80d-58923c15db78"
      },
      "execution_count": null,
      "outputs": [
        {
          "output_type": "execute_result",
          "data": {
            "text/plain": [
              "(7376, 100, 100, 1)"
            ]
          },
          "metadata": {},
          "execution_count": 25
        }
      ]
    },
    {
      "cell_type": "markdown",
      "source": [
        "\n",
        "# Building Model & Hyperparameter tuning"
      ],
      "metadata": {
        "id": "qyItuoEFQTVe"
      }
    },
    {
      "cell_type": "markdown",
      "source": [
        "## Building Model"
      ],
      "metadata": {
        "id": "2qYvldgWmTEJ"
      }
    },
    {
      "cell_type": "code",
      "source": [
        "# Defining input shape\n",
        "INPUT_SHAPE = (100, 100, 1)\n",
        "\n",
        "# Defining sequential model\n",
        "model = tf.keras.models.Sequential() \n",
        "tf.keras.layers.BatchNormalization() # Applying batch normalization to decrease importance of initial weights and speeds the training\n",
        "# Defining conv-pool layers - set 1\n",
        "model.add(tf.keras.layers.Conv2D(filters=32, kernel_size=(3, 3), # Filter is the number of filters, Kernel_size is the size of filters\n",
        "                                 strides=(1, 1), # Stride is the number of pixels to move horizontally or vertically\n",
        "                                activation='relu', # Rectified linear unit is the sctivation function that decides, whether a neuron should be activated or not\n",
        "                                 padding='same', input_shape=INPUT_SHAPE)) # Padding Valid reduces the image after convolving due to loss of edges, Same maintain the image size\n",
        "model.add(BatchNormalization()) # Applying batch normalization to decrease importance of initial weights and speeds the training\n",
        "model.add(tf.keras.layers.Conv2D(filters=164, kernel_size=(5, 5), strides=(1, 1), \n",
        "                                activation='relu', padding='same', input_shape=INPUT_SHAPE))\n",
        "model.add(BatchNormalization()) # Applying batch normalization to decrease importance of initial weights and speeds the training\n",
        "# Defining a poooling layer to reduce the number of parameters for provide faster training and to prevent overfitting\n",
        "model.add(tf.keras.layers.MaxPooling2D(pool_size=(2, 2), strides=2, padding='valid'))\n",
        "model.add(BatchNormalization()) # Applying batch normalization to decrease importance of initial weights and speeds the training\n",
        "# Defining conv-pool layers - set 2\n",
        "model.add(tf.keras.layers.Conv2D(filters=32, kernel_size=(3, 3), strides=(1, 1), \n",
        "                                activation='relu', padding='same', input_shape=INPUT_SHAPE))\n",
        "# Applying batch normalization to speed the training and decreasing the importance of initial weights ( as it regularizes the model, applying drop out together produce better results )\n",
        "model.add(BatchNormalization()) # Applying batch normalization to decrease importance of initial weights and speeds the training\n",
        "model.add(tf.keras.layers.Conv2D(filters=64, kernel_size=(5, 5), strides=(1, 1), \n",
        "                                activation='relu', padding='same', input_shape=INPUT_SHAPE))\n",
        "model.add(BatchNormalization()) # Applying batch normalization to decrease importance of initial weights and speeds the training\n",
        "model.add(tf.keras.layers.MaxPooling2D(pool_size=(2, 2), strides=2, padding='valid'))\n",
        "model.add(BatchNormalization()) # Applying batch normalization to decrease importance of initial weights and speeds the training\n",
        "# Adding a flatten layer\n",
        "model.add(tf.keras.layers.Flatten())\n",
        "model.add(BatchNormalization()) # Applying batch normalization to decrease importance of initial weights and speeds the training\n",
        "# Adding dense layers with some dropout\n",
        "model.add(tf.keras.layers.Dense(256, activation='relu')) \n",
        "model.add(BatchNormalization()) # Applying batch normalization to decrease importance of initial weights and speeds the training\n",
        "model.add(tf.keras.layers.Dropout(rate=0.3)) # Applying dropout of 30% of neurons\n",
        "model.add(tf.keras.layers.Dense(256, activation='relu'))\n",
        "model.add(BatchNormalization()) # Applying batch normalization to decrease importance of initial weights and speeds the training\n",
        "model.add(tf.keras.layers.Dropout(rate=0.2)) # applying dropout of 20% of neurons\n",
        "\n",
        "# Adding output layer\n",
        "model.add(tf.keras.layers.Dense(1, activation='sigmoid'))"
      ],
      "metadata": {
        "id": "ilCma5j-zHX1"
      },
      "execution_count": null,
      "outputs": []
    },
    {
      "cell_type": "code",
      "source": [
        "# Model layers viasulization\n",
        "model.summary()"
      ],
      "metadata": {
        "id": "bwn9xUR6dJ-T",
        "colab": {
          "base_uri": "https://localhost:8080/"
        },
        "outputId": "4ecbf66c-8014-4717-f2e0-7b0c7c76e928"
      },
      "execution_count": null,
      "outputs": [
        {
          "output_type": "stream",
          "name": "stdout",
          "text": [
            "Model: \"sequential\"\n",
            "_________________________________________________________________\n",
            " Layer (type)                Output Shape              Param #   \n",
            "=================================================================\n",
            " conv2d (Conv2D)             (None, 100, 100, 32)      320       \n",
            "                                                                 \n",
            " batch_normalization_1 (Batc  (None, 100, 100, 32)     128       \n",
            " hNormalization)                                                 \n",
            "                                                                 \n",
            " conv2d_1 (Conv2D)           (None, 100, 100, 164)     131364    \n",
            "                                                                 \n",
            " batch_normalization_2 (Batc  (None, 100, 100, 164)    656       \n",
            " hNormalization)                                                 \n",
            "                                                                 \n",
            " max_pooling2d (MaxPooling2D  (None, 50, 50, 164)      0         \n",
            " )                                                               \n",
            "                                                                 \n",
            " batch_normalization_3 (Batc  (None, 50, 50, 164)      656       \n",
            " hNormalization)                                                 \n",
            "                                                                 \n",
            " conv2d_2 (Conv2D)           (None, 50, 50, 32)        47264     \n",
            "                                                                 \n",
            " batch_normalization_4 (Batc  (None, 50, 50, 32)       128       \n",
            " hNormalization)                                                 \n",
            "                                                                 \n",
            " conv2d_3 (Conv2D)           (None, 50, 50, 64)        51264     \n",
            "                                                                 \n",
            " batch_normalization_5 (Batc  (None, 50, 50, 64)       256       \n",
            " hNormalization)                                                 \n",
            "                                                                 \n",
            " max_pooling2d_1 (MaxPooling  (None, 25, 25, 64)       0         \n",
            " 2D)                                                             \n",
            "                                                                 \n",
            " batch_normalization_6 (Batc  (None, 25, 25, 64)       256       \n",
            " hNormalization)                                                 \n",
            "                                                                 \n",
            " flatten (Flatten)           (None, 40000)             0         \n",
            "                                                                 \n",
            " batch_normalization_7 (Batc  (None, 40000)            160000    \n",
            " hNormalization)                                                 \n",
            "                                                                 \n",
            " dense (Dense)               (None, 256)               10240256  \n",
            "                                                                 \n",
            " batch_normalization_8 (Batc  (None, 256)              1024      \n",
            " hNormalization)                                                 \n",
            "                                                                 \n",
            " dropout (Dropout)           (None, 256)               0         \n",
            "                                                                 \n",
            " dense_1 (Dense)             (None, 256)               65792     \n",
            "                                                                 \n",
            " batch_normalization_9 (Batc  (None, 256)              1024      \n",
            " hNormalization)                                                 \n",
            "                                                                 \n",
            " dropout_1 (Dropout)         (None, 256)               0         \n",
            "                                                                 \n",
            " dense_2 (Dense)             (None, 1)                 257       \n",
            "                                                                 \n",
            "=================================================================\n",
            "Total params: 10,700,645\n",
            "Trainable params: 10,618,581\n",
            "Non-trainable params: 82,064\n",
            "_________________________________________________________________\n"
          ]
        }
      ]
    },
    {
      "cell_type": "markdown",
      "source": [
        "## Training Model"
      ],
      "metadata": {
        "id": "PWAKerrFi1om"
      }
    },
    {
      "cell_type": "code",
      "source": [
        "# Compiling the model\n",
        "optimizer = tf.keras.optimizers.Adam(learning_rate=0.001) # Adam as a faster optimization algorithm than Stochastic Gradient Descent and setting the default value for the learning rate \n",
        "EPOCHS = 100 # 100 Epochs is the number of loops that through the training dataset\n",
        "\n",
        "model_0 = tf.keras.models.clone_model(model)\n",
        "model_0.compile(optimizer= optimizer , \n",
        "              loss='BinaryCrossentropy', # Using binary cross-entropy (for a binary calssification problem) as the loss function to measure the degree of dissimilarity of obtained result to the target value)\n",
        "              metrics=['accuracy'])\n",
        "\n",
        "# Using Early Stopping for stop training before it starts to overfitting\n",
        "es_callback = tf.keras.callbacks.EarlyStopping(monitor='val_loss', \n",
        "                                               patience=2,  # Number of epochs with no improvement after which training will be stopped\n",
        "                                               restore_best_weights=True,\n",
        "                                               verbose=1) # Verbose=1 will show you an animated progress bar of epochs\n",
        "\n",
        "es_monitor = model_0.fit(X_train, y_train,\n",
        "                    batch_size=100, # Setting 100 as the batch size (number of samples used to estimate model error in an epoch), the default value is 32\n",
        "                    callbacks=[es_callback], \n",
        "                    validation_data=(X_val, y_val), \n",
        "                    epochs=EPOCHS,\n",
        "                    verbose=1)"
      ],
      "metadata": {
        "id": "WdERRz8nM0JT",
        "colab": {
          "base_uri": "https://localhost:8080/"
        },
        "outputId": "ccb51023-77be-404f-ff25-ef2a10d85a57"
      },
      "execution_count": null,
      "outputs": [
        {
          "output_type": "stream",
          "name": "stdout",
          "text": [
            "Epoch 1/100\n",
            "74/74 [==============================] - 18s 82ms/step - loss: 0.4839 - accuracy: 0.7882 - val_loss: 1.2405 - val_accuracy: 0.5580\n",
            "Epoch 2/100\n",
            "74/74 [==============================] - 4s 56ms/step - loss: 0.3014 - accuracy: 0.8754 - val_loss: 2.3109 - val_accuracy: 0.5580\n",
            "Epoch 3/100\n",
            "73/74 [============================>.] - ETA: 0s - loss: 0.2359 - accuracy: 0.9030Restoring model weights from the end of the best epoch: 1.\n",
            "74/74 [==============================] - 4s 57ms/step - loss: 0.2358 - accuracy: 0.9029 - val_loss: 3.3248 - val_accuracy: 0.5580\n",
            "Epoch 3: early stopping\n"
          ]
        }
      ]
    },
    {
      "cell_type": "markdown",
      "source": [
        "## Hyperparameter Tunning\n",
        "\n",
        "The hyperparameters tunning strategies optimized in this notebook were:   \n",
        "* Learning Rate   \n",
        "* Batch Size  \n"
      ],
      "metadata": {
        "id": "G0AZQepKktc3"
      }
    },
    {
      "cell_type": "markdown",
      "source": [
        "Reducing Learning Rate"
      ],
      "metadata": {
        "id": "1M7NYmSF2r7f"
      }
    },
    {
      "cell_type": "code",
      "source": [
        "# Compiling the model\n",
        "optimizer = tf.keras.optimizers.Adam(learning_rate=0.0001) # Adam is a faster optimization algorithm than Stochastic Gradient Descent and reducing the learning rate value \n",
        "EPOCHS = 100 # 100 Epochs is the number of loops that through the training dataset\n",
        "\n",
        "model_1 = tf.keras.models.clone_model(model)\n",
        "model_1.compile(optimizer= optimizer , \n",
        "              loss='BinaryCrossentropy', # Using binary cross-entropy (for a binary calssification problem) as the loss function to measure the degree of dissimilarity of obtained result to the target value)\n",
        "              metrics=['accuracy'])\n",
        "\n",
        "# Using Early Stopping for stop training before it starts to overfitting\n",
        "es_callback = tf.keras.callbacks.EarlyStopping(monitor='val_loss', \n",
        "                                               patience=2,  # Number of epochs with no improvement after which training will be stopped\n",
        "                                               restore_best_weights=True,\n",
        "                                               verbose=1) # Verbose=1 will exhibitan animated progress bar of epochs\n",
        "\n",
        "es_monitor_1 = model_1.fit(X_train, y_train,\n",
        "                    batch_size=100, # Setting 100 as the batch size (number of samples used to estimate model error in an epoch), the default value is 32\n",
        "                    callbacks=[es_callback], \n",
        "                    validation_data=(X_val, y_val), \n",
        "                    epochs=EPOCHS,\n",
        "                    verbose=1)"
      ],
      "metadata": {
        "id": "T_uKj7O_ruDf",
        "colab": {
          "base_uri": "https://localhost:8080/"
        },
        "outputId": "502de991-ffff-486d-d99a-965f90a1da0e"
      },
      "execution_count": null,
      "outputs": [
        {
          "output_type": "stream",
          "name": "stdout",
          "text": [
            "Epoch 1/100\n",
            "74/74 [==============================] - 6s 61ms/step - loss: 0.4460 - accuracy: 0.8053 - val_loss: 0.6788 - val_accuracy: 0.5580\n",
            "Epoch 2/100\n",
            "74/74 [==============================] - 4s 56ms/step - loss: 0.2760 - accuracy: 0.8846 - val_loss: 0.6824 - val_accuracy: 0.4702\n",
            "Epoch 3/100\n",
            "74/74 [==============================] - 4s 57ms/step - loss: 0.2065 - accuracy: 0.9157 - val_loss: 0.6125 - val_accuracy: 0.6741\n",
            "Epoch 4/100\n",
            "74/74 [==============================] - 4s 57ms/step - loss: 0.1695 - accuracy: 0.9300 - val_loss: 0.5378 - val_accuracy: 0.8221\n",
            "Epoch 5/100\n",
            "74/74 [==============================] - 4s 57ms/step - loss: 0.1203 - accuracy: 0.9546 - val_loss: 0.4811 - val_accuracy: 0.7701\n",
            "Epoch 6/100\n",
            "74/74 [==============================] - 4s 57ms/step - loss: 0.0903 - accuracy: 0.9679 - val_loss: 0.4570 - val_accuracy: 0.7880\n",
            "Epoch 7/100\n",
            "74/74 [==============================] - 4s 57ms/step - loss: 0.0700 - accuracy: 0.9774 - val_loss: 0.3939 - val_accuracy: 0.8308\n",
            "Epoch 8/100\n",
            "74/74 [==============================] - 4s 57ms/step - loss: 0.0600 - accuracy: 0.9805 - val_loss: 0.2400 - val_accuracy: 0.9024\n",
            "Epoch 9/100\n",
            "74/74 [==============================] - 4s 57ms/step - loss: 0.0437 - accuracy: 0.9873 - val_loss: 0.2181 - val_accuracy: 0.9159\n",
            "Epoch 10/100\n",
            "74/74 [==============================] - 4s 56ms/step - loss: 0.0395 - accuracy: 0.9882 - val_loss: 0.2191 - val_accuracy: 0.9127\n",
            "Epoch 11/100\n",
            "73/74 [============================>.] - ETA: 0s - loss: 0.0254 - accuracy: 0.9930Restoring model weights from the end of the best epoch: 9.\n",
            "74/74 [==============================] - 4s 57ms/step - loss: 0.0258 - accuracy: 0.9928 - val_loss: 0.2361 - val_accuracy: 0.9111\n",
            "Epoch 11: early stopping\n"
          ]
        }
      ]
    },
    {
      "cell_type": "code",
      "source": [
        "# compiling the model\n",
        "optimizer = tf.keras.optimizers.Adam(learning_rate=0.00001) # Adam is a faster optimization algorithm than Stochastic Gradient Descent and reducing the learning rate value \n",
        "EPOCHS = 100 # 100 Epochs is the number of loops that through the training dataset\n",
        "\n",
        "model_2 = tf.keras.models.clone_model(model)\n",
        "model_2.compile(optimizer= optimizer , \n",
        "              loss='BinaryCrossentropy', # Using binary cross-entropy (for a binary calssification problem) as the loss function to measure the degree of dissimilarity of obtained result to the target value)\n",
        "              metrics=['accuracy'])\n",
        "\n",
        "# Using Early Stopping for stop training before it starts to overfitting\n",
        "es_callback = tf.keras.callbacks.EarlyStopping(monitor='val_loss', \n",
        "                                               patience=2,  # Number of epochs with no improvement after which training will be stopped\n",
        "                                               restore_best_weights=True,\n",
        "                                               verbose=1) # Verbose=1 exhibits an animated progress bar of epochs\n",
        "\n",
        "es_monitor_2 = model_2.fit(X_train, y_train,\n",
        "                    batch_size=100, # Setting 100 as the batch size (number of samples used to estimate model error in an epoch), the default value is 32\n",
        "                    callbacks=[es_callback], \n",
        "                    validation_data=(X_val, y_val), \n",
        "                    epochs=EPOCHS,\n",
        "                    verbose=1)"
      ],
      "metadata": {
        "id": "VCdDg64X2xkx",
        "colab": {
          "base_uri": "https://localhost:8080/"
        },
        "outputId": "6a55a858-cb6f-4bc4-9ae0-3fc673bd0d6a"
      },
      "execution_count": null,
      "outputs": [
        {
          "output_type": "stream",
          "name": "stdout",
          "text": [
            "Epoch 1/100\n",
            "74/74 [==============================] - 6s 61ms/step - loss: 0.6007 - accuracy: 0.7062 - val_loss: 0.6829 - val_accuracy: 0.5580\n",
            "Epoch 2/100\n",
            "74/74 [==============================] - 4s 57ms/step - loss: 0.3750 - accuracy: 0.8355 - val_loss: 0.6813 - val_accuracy: 0.5580\n",
            "Epoch 3/100\n",
            "74/74 [==============================] - 4s 57ms/step - loss: 0.2997 - accuracy: 0.8739 - val_loss: 0.6618 - val_accuracy: 0.5662\n",
            "Epoch 4/100\n",
            "74/74 [==============================] - 4s 57ms/step - loss: 0.2549 - accuracy: 0.8915 - val_loss: 0.6268 - val_accuracy: 0.6768\n",
            "Epoch 5/100\n",
            "74/74 [==============================] - 4s 57ms/step - loss: 0.2226 - accuracy: 0.9102 - val_loss: 0.5635 - val_accuracy: 0.7218\n",
            "Epoch 6/100\n",
            "74/74 [==============================] - 4s 56ms/step - loss: 0.1940 - accuracy: 0.9229 - val_loss: 0.6123 - val_accuracy: 0.6350\n",
            "Epoch 7/100\n",
            "73/74 [============================>.] - ETA: 0s - loss: 0.1658 - accuracy: 0.9378Restoring model weights from the end of the best epoch: 5.\n",
            "74/74 [==============================] - 4s 57ms/step - loss: 0.1654 - accuracy: 0.9379 - val_loss: 0.6291 - val_accuracy: 0.6697\n",
            "Epoch 7: early stopping\n"
          ]
        }
      ]
    },
    {
      "cell_type": "markdown",
      "source": [
        "Reducing batch size"
      ],
      "metadata": {
        "id": "iIC9-RMwru4z"
      }
    },
    {
      "cell_type": "code",
      "source": [
        "# Compiling the model\n",
        "optimizer = tf.keras.optimizers.Adam(learning_rate=0.00001) # Adam as a faster optimization algorithm than Stochastic Gradient Descent and using a reduced value for the learning rate\n",
        "EPOCHS = 100 # 100 Epochs is the number of loops that through the training dataset\n",
        "\n",
        "model_3 = tf.keras.models.clone_model(model)\n",
        "model_3.compile(optimizer= optimizer , \n",
        "              loss='BinaryCrossentropy', # Using binary cross-entropy (for a binary calssification problem) as the loss function to measure the degree of dissimilarity of obtained result to the target value)\n",
        "              metrics=['accuracy'])\n",
        "\n",
        "# Using Early Stopping for stop training before it starts to overfitting\n",
        "es_callback = tf.keras.callbacks.EarlyStopping(monitor='val_loss', \n",
        "                                               patience=2,  # Number of epochs with no improvement after which training will be stopped\n",
        "                                               restore_best_weights=True,\n",
        "                                               verbose=1) # verbose=1 will show you an animated progress bar of epochs\n",
        "\n",
        "es_monitor_3 = model_3.fit(X_train, y_train,\n",
        "                    batch_size=50, # Reducing the batch size in a half (50)\n",
        "                    callbacks=[es_callback], \n",
        "                    validation_data=(X_val, y_val), \n",
        "                    epochs=EPOCHS,\n",
        "                    verbose=1)"
      ],
      "metadata": {
        "id": "9KDzbv01sRmh",
        "colab": {
          "base_uri": "https://localhost:8080/"
        },
        "outputId": "de4164fc-7d9c-4a9b-8ba3-f4147d60715a"
      },
      "execution_count": null,
      "outputs": [
        {
          "output_type": "stream",
          "name": "stdout",
          "text": [
            "Epoch 1/100\n",
            "148/148 [==============================] - 7s 35ms/step - loss: 0.5363 - accuracy: 0.7424 - val_loss: 0.7291 - val_accuracy: 0.5580\n",
            "Epoch 2/100\n",
            "148/148 [==============================] - 4s 29ms/step - loss: 0.3403 - accuracy: 0.8496 - val_loss: 0.6930 - val_accuracy: 0.5586\n",
            "Epoch 3/100\n",
            "148/148 [==============================] - 4s 29ms/step - loss: 0.2725 - accuracy: 0.8861 - val_loss: 0.6131 - val_accuracy: 0.6535\n",
            "Epoch 4/100\n",
            "148/148 [==============================] - 4s 29ms/step - loss: 0.2219 - accuracy: 0.9128 - val_loss: 0.3578 - val_accuracy: 0.8400\n",
            "Epoch 5/100\n",
            "148/148 [==============================] - 4s 29ms/step - loss: 0.1886 - accuracy: 0.9245 - val_loss: 0.2440 - val_accuracy: 0.8943\n",
            "Epoch 6/100\n",
            "148/148 [==============================] - 4s 29ms/step - loss: 0.1661 - accuracy: 0.9360 - val_loss: 0.2261 - val_accuracy: 0.9013\n",
            "Epoch 7/100\n",
            "148/148 [==============================] - 4s 29ms/step - loss: 0.1384 - accuracy: 0.9520 - val_loss: 0.2089 - val_accuracy: 0.9170\n",
            "Epoch 8/100\n",
            "148/148 [==============================] - 4s 29ms/step - loss: 0.1198 - accuracy: 0.9604 - val_loss: 0.2159 - val_accuracy: 0.9089\n",
            "Epoch 9/100\n",
            "147/148 [============================>.] - ETA: 0s - loss: 0.1077 - accuracy: 0.9639Restoring model weights from the end of the best epoch: 7.\n",
            "148/148 [==============================] - 4s 29ms/step - loss: 0.1081 - accuracy: 0.9638 - val_loss: 0.2243 - val_accuracy: 0.9089\n",
            "Epoch 9: early stopping\n"
          ]
        }
      ]
    },
    {
      "cell_type": "code",
      "source": [
        "# Compiling the model\n",
        "optimizer = tf.keras.optimizers.Adam(learning_rate=0.0001) # Adam as a faster optimization algorithm than Stochastic Gradient Descent and using the reduced value for the learning rate\n",
        "EPOCHS = 100 # 100 Epochs is the number of loops that through the training dataset\n",
        "\n",
        "model_4 = tf.keras.models.clone_model(model)\n",
        "model_4.compile(optimizer= optimizer , \n",
        "              loss='BinaryCrossentropy', # Using binary cross-entropy (for a binary calssification problem) as the loss function to measure the degree of dissimilarity of obtained result to the target value)\n",
        "              metrics=['accuracy'])\n",
        "\n",
        "#Using Early Stopping for stop training before it starts to overfitting\n",
        "es_callback = tf.keras.callbacks.EarlyStopping(monitor='val_loss', \n",
        "                                               patience=2,  # number of epochs with no improvement after which training will be stopped\n",
        "                                               restore_best_weights=True,\n",
        "                                               verbose=1) # verbose=1 will show you an animated progress bar of epochs\n",
        "\n",
        "es_monitor_4 = model_4.fit(X_train, y_train,\n",
        "                    batch_size=50, # Reducing the batch size in a half (50)\n",
        "                    callbacks=[es_callback], \n",
        "                    validation_data=(X_val, y_val), \n",
        "                    epochs=EPOCHS,\n",
        "                    verbose=1)"
      ],
      "metadata": {
        "id": "eB_iZeSY8zuq",
        "colab": {
          "base_uri": "https://localhost:8080/"
        },
        "outputId": "624d7506-2ce0-41cc-e930-eb130efd1cd1"
      },
      "execution_count": null,
      "outputs": [
        {
          "output_type": "stream",
          "name": "stdout",
          "text": [
            "Epoch 1/100\n",
            "148/148 [==============================] - 6s 31ms/step - loss: 0.4319 - accuracy: 0.8030 - val_loss: 0.8130 - val_accuracy: 0.5580\n",
            "Epoch 2/100\n",
            "148/148 [==============================] - 4s 29ms/step - loss: 0.2740 - accuracy: 0.8849 - val_loss: 0.5732 - val_accuracy: 0.7923\n",
            "Epoch 3/100\n",
            "148/148 [==============================] - 4s 29ms/step - loss: 0.2194 - accuracy: 0.9100 - val_loss: 0.4712 - val_accuracy: 0.8026\n",
            "Epoch 4/100\n",
            "148/148 [==============================] - 4s 29ms/step - loss: 0.1715 - accuracy: 0.9347 - val_loss: 0.3584 - val_accuracy: 0.8411\n",
            "Epoch 5/100\n",
            "148/148 [==============================] - 4s 29ms/step - loss: 0.1311 - accuracy: 0.9508 - val_loss: 0.2686 - val_accuracy: 0.8937\n",
            "Epoch 6/100\n",
            "148/148 [==============================] - 4s 29ms/step - loss: 0.0890 - accuracy: 0.9679 - val_loss: 0.2419 - val_accuracy: 0.9078\n",
            "Epoch 7/100\n",
            "148/148 [==============================] - 4s 29ms/step - loss: 0.0751 - accuracy: 0.9736 - val_loss: 0.2063 - val_accuracy: 0.9252\n",
            "Epoch 8/100\n",
            "148/148 [==============================] - 4s 28ms/step - loss: 0.0560 - accuracy: 0.9817 - val_loss: 0.2180 - val_accuracy: 0.9208\n",
            "Epoch 9/100\n",
            "147/148 [============================>.] - ETA: 0s - loss: 0.0542 - accuracy: 0.9818Restoring model weights from the end of the best epoch: 7.\n",
            "148/148 [==============================] - 4s 29ms/step - loss: 0.0541 - accuracy: 0.9818 - val_loss: 0.3139 - val_accuracy: 0.8867\n",
            "Epoch 9: early stopping\n"
          ]
        }
      ]
    },
    {
      "cell_type": "markdown",
      "source": [
        "Evaluating Model"
      ],
      "metadata": {
        "id": "9SV3YkR5md0D"
      }
    },
    {
      "cell_type": "code",
      "source": [
        "# Saving the model history into dataframes\n",
        "es_monitor_df = pd.DataFrame(es_monitor.history)\n",
        "es_monitor_1_df = pd.DataFrame(es_monitor_1.history)\n",
        "es_monitor_2_df = pd.DataFrame(es_monitor_2.history)\n",
        "es_monitor_3_df = pd.DataFrame(es_monitor_3.history)\n",
        "es_monitor_4_df = pd.DataFrame(es_monitor_4.history)"
      ],
      "metadata": {
        "id": "jQO-VI5dY9DW"
      },
      "execution_count": null,
      "outputs": []
    },
    {
      "cell_type": "code",
      "source": [
        "# Plotting the evolution of the loss function and accuracy for the training and validation data\n",
        "fig, ax = plt.subplots(2, 5, figsize=(22, 8))\n",
        "es_monitor_df[['loss', 'val_loss']].plot(kind='line', ax=ax[0][0])\n",
        "es_monitor_1_df[['loss', 'val_loss']].plot(kind='line', ax=ax[0][1])\n",
        "es_monitor_2_df[['loss', 'val_loss']].plot(kind='line', ax=ax[0][2])\n",
        "es_monitor_3_df[['loss', 'val_loss']].plot(kind='line', ax=ax[0][3])\n",
        "es_monitor_4_df[['loss', 'val_loss']].plot(kind='line', ax=ax[0][4])\n",
        "es_monitor_df[['accuracy', 'val_accuracy']].plot(kind='line', ax=ax[1][0]);\n",
        "es_monitor_1_df[['accuracy', 'val_accuracy']].plot(kind='line', ax=ax[1][1]);\n",
        "es_monitor_2_df[['accuracy', 'val_accuracy']].plot(kind='line', ax=ax[1][2]);\n",
        "es_monitor_3_df[['accuracy', 'val_accuracy']].plot(kind='line', ax=ax[1][3]);\n",
        "es_monitor_4_df[['accuracy', 'val_accuracy']].plot(kind='line', ax=ax[1][4]);\n",
        "ax[0][0].title.set_text('Model 0 Learning Rate: 0.001 Batch Size:100')\n",
        "ax[0][1].title.set_text('Model 1 Learning Rate: 0.0001 Batch Size:100')\n",
        "ax[0][2].title.set_text('Model 2 Learning Rate: 0.00001 Batch Size:100')\n",
        "ax[0][3].title.set_text('Model 3 Learning Rate: 0.00001 Batch SizeS:50')\n",
        "ax[0][4].title.set_text('Model 4 Learning Rate: 0.0001 BS:50')\n",
        "plt.show() #LR is Learning Rate and BS is Batch Size"
      ],
      "metadata": {
        "id": "KcFIDYyokNFT",
        "colab": {
          "base_uri": "https://localhost:8080/",
          "height": 407
        },
        "outputId": "b3e9e0c2-15b9-48db-bf17-5d1499cdde9c"
      },
      "execution_count": null,
      "outputs": [
        {
          "output_type": "display_data",
          "data": {
            "text/plain": [
              "<Figure size 1584x576 with 10 Axes>"
            ],
            "image/png": "[encoded data removed]"
          },
          "metadata": {
            "needs_background": "light"
          }
        }
      ]
    },
    {
      "cell_type": "markdown",
      "source": [
        "It is possible to note that the reduction of both learning rate and batch size decreased the loss function and increased accuracy."
      ],
      "metadata": {
        "id": "aP8M5ZiIw8qZ"
      }
    },
    {
      "cell_type": "code",
      "source": [
        "# Predicting the values for all the data\n",
        "y_pred = model_4.predict(X)\n",
        "y_train_pred = model_4.predict(X_train)\n",
        "y_val_pred = model_4.predict(X_val)\n",
        "# Converting values to integer format\n",
        "y_predict = (np.rint(y_pred)).astype(int)\n",
        "y_train_predict = (np.rint(y_train_pred)).astype(int)\n",
        "y_val_predict = (np.rint(y_val_pred)).astype(int)\n",
        "y_predict"
      ],
      "metadata": {
        "id": "pKrGoaHRZ40o",
        "colab": {
          "base_uri": "https://localhost:8080/"
        },
        "outputId": "7ecb08e5-ca9a-4de0-e598-fce72a57a558"
      },
      "execution_count": null,
      "outputs": [
        {
          "output_type": "stream",
          "name": "stdout",
          "text": [
            "289/289 [==============================] - 1s 4ms/step\n",
            "231/231 [==============================] - 1s 4ms/step\n",
            "58/58 [==============================] - 0s 4ms/step\n"
          ]
        },
        {
          "output_type": "execute_result",
          "data": {
            "text/plain": [
              "array([[0],\n",
              "       [1],\n",
              "       [1],\n",
              "       ...,\n",
              "       [0],\n",
              "       [0],\n",
              "       [1]])"
            ]
          },
          "metadata": {},
          "execution_count": 102
        }
      ]
    },
    {
      "cell_type": "code",
      "source": [
        "pd.DataFrame(y_predict).value_counts(), pd.DataFrame(y_train_predict).value_counts(), pd.DataFrame(y_val_predict).value_counts()"
      ],
      "metadata": {
        "id": "bVOvrMg-iK72",
        "colab": {
          "base_uri": "https://localhost:8080/"
        },
        "outputId": "c381dbc3-441c-40af-c740-341eefb20dc4"
      },
      "execution_count": null,
      "outputs": [
        {
          "output_type": "execute_result",
          "data": {
            "text/plain": [
              "(0    5046\n",
              " 1    4174\n",
              " dtype: int64, 0    4037\n",
              " 1    3339\n",
              " dtype: int64, 0    1009\n",
              " 1     835\n",
              " dtype: int64)"
            ]
          },
          "metadata": {},
          "execution_count": 91
        }
      ]
    },
    {
      "cell_type": "code",
      "source": [
        "from sklearn.metrics import confusion_matrix\n",
        "\n",
        "print(confusion_matrix(y, y_predict))\n",
        "print(confusion_matrix(y_train, y_train_predict))\n",
        "print(confusion_matrix(y_val, y_val_predict))"
      ],
      "metadata": {
        "id": "9xmmllKcaEmP",
        "colab": {
          "base_uri": "https://localhost:8080/"
        },
        "outputId": "db502018-beff-4352-8042-5e430ecb285d"
      },
      "execution_count": null,
      "outputs": [
        {
          "output_type": "stream",
          "name": "stdout",
          "text": [
            "[[4945  113]\n",
            " [ 101 4061]]\n",
            "[[3995   34]\n",
            " [  42 3305]]\n",
            "[[950  79]\n",
            " [ 59 756]]\n"
          ]
        }
      ]
    },
    {
      "cell_type": "markdown",
      "source": [
        "\n",
        "# Validate the model"
      ],
      "metadata": {
        "id": "sjmaygnaQZkb"
      }
    },
    {
      "cell_type": "markdown",
      "source": [
        "## Predicting The Output For Testing Dataset \n",
        "\n"
      ],
      "metadata": {
        "id": "ZseXHwlCQf5v"
      }
    },
    {
      "cell_type": "markdown",
      "source": [
        "## Loading and preparing test data"
      ],
      "metadata": {
        "id": "3kmWOt7drrGz"
      }
    },
    {
      "cell_type": "code",
      "source": [
        "start_time = datetime.now()\n",
        "\n",
        "labels = pd.read_csv(\"/content/drive/MyDrive/eye_gender_data/Testing_set.csv\")   # Loading the labels\n",
        "file_paths = [[fname, '/content/drive/MyDrive/eye_gender_data/test/' + fname] for fname in labels['filename']]\n",
        "images = pd.DataFrame(file_paths, columns=['filename', 'filepaths'])\n",
        "test_data = pd.merge(images, labels, how = 'inner', on = 'filename')\n",
        "\n",
        "data_sub = []     # Initializing an empty numpy array\n",
        "image_size = 100      # Image size taken is 100 here\n",
        "for i in range(len(test_data)):\n",
        "  img_array = cv2.imread(test_data['filepaths'][i], cv2.IMREAD_GRAYSCALE)   # Converting the image to gray scale\n",
        "  new_img_array = cv2.resize(img_array, (image_size, image_size))      # Resizing the image array\n",
        "  data_sub.append([new_img_array])\n",
        "\n",
        "end_time = datetime.now()\n",
        "print('Duration: {}'.format(end_time - start_time))"
      ],
      "metadata": {
        "id": "Gy_gIcKB-qU0",
        "colab": {
          "base_uri": "https://localhost:8080/"
        },
        "outputId": "cf5c9f50-e79c-4e61-8bee-ff681d50da0b"
      },
      "execution_count": null,
      "outputs": [
        {
          "output_type": "stream",
          "name": "stdout",
          "text": [
            "Duration: 0:00:02.665334\n"
          ]
        }
      ]
    },
    {
      "cell_type": "markdown",
      "source": [
        "## Test Data Pre-Processing"
      ],
      "metadata": {
        "id": "JUgy8lHmr3QB"
      }
    },
    {
      "cell_type": "code",
      "source": [
        "len(data_sub), len(data_sub[0]),  len(data_sub[0][0])"
      ],
      "metadata": {
        "id": "MUczHI1UBycJ",
        "colab": {
          "base_uri": "https://localhost:8080/"
        },
        "outputId": "7088f7a8-7235-4b43-a085-605777f30f63"
      },
      "execution_count": null,
      "outputs": [
        {
          "output_type": "execute_result",
          "data": {
            "text/plain": [
              "(2305, 1, 100)"
            ]
          },
          "metadata": {},
          "execution_count": 115
        }
      ]
    },
    {
      "cell_type": "code",
      "source": [
        "X_data_test = data_sub.copy()"
      ],
      "metadata": {
        "id": "miZOlJZf_sef"
      },
      "execution_count": null,
      "outputs": []
    },
    {
      "cell_type": "code",
      "source": [
        "X_data_test  = pd.DataFrame(X_data_test )\n",
        "X_data_test , X_data_test.shape"
      ],
      "metadata": {
        "id": "AsTMMTiLEaYd",
        "colab": {
          "base_uri": "https://localhost:8080/"
        },
        "outputId": "dd7c0e5a-1da6-4044-d1fa-7084cb2705c2"
      },
      "execution_count": null,
      "outputs": [
        {
          "output_type": "execute_result",
          "data": {
            "text/plain": [
              "(                                                      0\n",
              " 0     [[140, 141, 142, 142, 141, 139, 139, 138, 135,...\n",
              " 1     [[165, 168, 173, 175, 176, 171, 164, 160, 155,...\n",
              " 2     [[208, 206, 204, 202, 199, 197, 194, 194, 195,...\n",
              " 3     [[45, 43, 41, 39, 37, 36, 35, 34, 32, 30, 27, ...\n",
              " 4     [[206, 207, 208, 209, 211, 214, 216, 218, 217,...\n",
              " ...                                                 ...\n",
              " 2300  [[122, 120, 117, 113, 109, 102, 99, 99, 104, 1...\n",
              " 2301  [[159, 158, 157, 156, 155, 153, 150, 146, 141,...\n",
              " 2302  [[145, 146, 147, 148, 149, 149, 149, 150, 151,...\n",
              " 2303  [[183, 183, 183, 181, 181, 181, 183, 184, 185,...\n",
              " 2304  [[226, 225, 224, 224, 224, 224, 223, 222, 220,...\n",
              " \n",
              " [2305 rows x 1 columns], (2305, 1))"
            ]
          },
          "metadata": {},
          "execution_count": 117
        }
      ]
    },
    {
      "cell_type": "code",
      "source": [
        "X_test = np.zeros((len(X_data_test [0]), X_data_test [0][0].shape[0], X_data_test [0][0].shape[1]))\n",
        "\n",
        "for i, img in enumerate(X_data_test [0]):\n",
        "    X_test[i, : , :] = img"
      ],
      "metadata": {
        "id": "S2HuyzBHDDA5"
      },
      "execution_count": null,
      "outputs": []
    },
    {
      "cell_type": "code",
      "source": [
        "X_test.shape #Checking the shape of the data"
      ],
      "metadata": {
        "id": "-w7uTbHZDXek",
        "colab": {
          "base_uri": "https://localhost:8080/"
        },
        "outputId": "1dc1e871-283b-48cc-9526-415c910a26fa"
      },
      "execution_count": null,
      "outputs": [
        {
          "output_type": "execute_result",
          "data": {
            "text/plain": [
              "(2305, 100, 100)"
            ]
          },
          "metadata": {},
          "execution_count": 121
        }
      ]
    },
    {
      "cell_type": "code",
      "source": [
        "X_test"
      ],
      "metadata": {
        "id": "ljpGaUByExNe",
        "colab": {
          "base_uri": "https://localhost:8080/"
        },
        "outputId": "29c09522-4597-4d2e-b0fd-d805e444439a"
      },
      "execution_count": null,
      "outputs": [
        {
          "output_type": "execute_result",
          "data": {
            "text/plain": [
              "array([[[140., 141., 142., ..., 169., 171., 173.],\n",
              "        [138., 138., 138., ..., 166., 168., 170.],\n",
              "        [137., 135., 134., ..., 163., 164., 166.],\n",
              "        ...,\n",
              "        [146., 150., 155., ..., 151., 151., 151.],\n",
              "        [146., 151., 157., ..., 148., 147., 146.],\n",
              "        [147., 152., 158., ..., 147., 145., 143.]],\n",
              "\n",
              "       [[165., 168., 173., ...,  93.,  89.,  87.],\n",
              "        [160., 163., 169., ...,  89.,  86.,  84.],\n",
              "        [153., 156., 162., ...,  83.,  80.,  78.],\n",
              "        ...,\n",
              "        [111., 113., 116., ..., 122., 120., 119.],\n",
              "        [111., 112., 115., ..., 125., 122., 121.],\n",
              "        [110., 112., 115., ..., 127., 124., 122.]],\n",
              "\n",
              "       [[208., 206., 204., ..., 184., 186., 187.],\n",
              "        [207., 206., 204., ..., 182., 184., 185.],\n",
              "        [206., 206., 204., ..., 179., 181., 181.],\n",
              "        ...,\n",
              "        [211., 212., 214., ..., 222., 222., 222.],\n",
              "        [210., 212., 214., ..., 221., 221., 221.],\n",
              "        [210., 211., 214., ..., 221., 221., 221.]],\n",
              "\n",
              "       ...,\n",
              "\n",
              "       [[145., 146., 147., ..., 144., 144., 144.],\n",
              "        [145., 146., 148., ..., 143., 143., 143.],\n",
              "        [147., 147., 148., ..., 142., 142., 142.],\n",
              "        ...,\n",
              "        [135., 135., 135., ..., 135., 134., 134.],\n",
              "        [136., 136., 136., ..., 135., 134., 133.],\n",
              "        [136., 136., 136., ..., 135., 133., 133.]],\n",
              "\n",
              "       [[183., 183., 183., ..., 197., 197., 198.],\n",
              "        [185., 185., 185., ..., 197., 197., 198.],\n",
              "        [188., 188., 188., ..., 197., 197., 198.],\n",
              "        ...,\n",
              "        [211., 209., 208., ..., 220., 220., 221.],\n",
              "        [212., 210., 208., ..., 219., 219., 219.],\n",
              "        [213., 211., 209., ..., 218., 218., 218.]],\n",
              "\n",
              "       [[226., 225., 224., ..., 171., 167., 166.],\n",
              "        [226., 226., 225., ..., 171., 169., 167.],\n",
              "        [227., 226., 225., ..., 173., 171., 169.],\n",
              "        ...,\n",
              "        [184., 183., 181., ..., 199., 201., 202.],\n",
              "        [185., 183., 181., ..., 200., 201., 202.],\n",
              "        [185., 184., 181., ..., 200., 201., 202.]]])"
            ]
          },
          "metadata": {},
          "execution_count": 122
        }
      ]
    },
    {
      "cell_type": "code",
      "source": [
        "# Displaying an image from the dataset\n",
        "plt.imshow(X_test[6])\n",
        "plt.show()"
      ],
      "metadata": {
        "id": "sL7lvDdvFdAD",
        "colab": {
          "base_uri": "https://localhost:8080/",
          "height": 268
        },
        "outputId": "967a219b-3f78-47a8-e39c-c34893fc511f"
      },
      "execution_count": null,
      "outputs": [
        {
          "output_type": "display_data",
          "data": {
            "text/plain": [
              "<Figure size 432x288 with 1 Axes>"
            ],
            "image/png": "[encoded data removed]"
          },
          "metadata": {
            "needs_background": "light"
          }
        }
      ]
    },
    {
      "cell_type": "code",
      "source": [
        "import matplotlib.pyplot as plt # to visualise\n",
        "# Displaying an image from the file\n",
        "img_bgr = cv2.imread('/content/drive/MyDrive/eye_gender_data/test/Image_7.jpg')\n",
        "img_rgb = cv2.cvtColor(img_bgr, cv2.COLOR_BGR2RGB)\n",
        "plt.imshow(img_rgb)\n",
        "plt.show()"
      ],
      "metadata": {
        "id": "cmTVl_PbFqhl",
        "colab": {
          "base_uri": "https://localhost:8080/",
          "height": 268
        },
        "outputId": "df5450cb-59af-4a98-8a92-19f23278d719"
      },
      "execution_count": null,
      "outputs": [
        {
          "output_type": "display_data",
          "data": {
            "text/plain": [
              "<Figure size 432x288 with 1 Axes>"
            ],
            "image/png": "[encoded data removed]"
          },
          "metadata": {
            "needs_background": "light"
          }
        }
      ]
    },
    {
      "cell_type": "code",
      "source": [
        "# Normalizing the data\n",
        "X_test_norm = X_test/255\n",
        "X_test_norm"
      ],
      "metadata": {
        "colab": {
          "base_uri": "https://localhost:8080/"
        },
        "id": "vrlhHjFZ2Z-q",
        "outputId": "a602af2c-028e-491b-8014-6545f43630a6"
      },
      "execution_count": null,
      "outputs": [
        {
          "output_type": "execute_result",
          "data": {
            "text/plain": [
              "array([[[0.54901961, 0.55294118, 0.55686275, ..., 0.6627451 ,\n",
              "         0.67058824, 0.67843137],\n",
              "        [0.54117647, 0.54117647, 0.54117647, ..., 0.65098039,\n",
              "         0.65882353, 0.66666667],\n",
              "        [0.5372549 , 0.52941176, 0.5254902 , ..., 0.63921569,\n",
              "         0.64313725, 0.65098039],\n",
              "        ...,\n",
              "        [0.57254902, 0.58823529, 0.60784314, ..., 0.59215686,\n",
              "         0.59215686, 0.59215686],\n",
              "        [0.57254902, 0.59215686, 0.61568627, ..., 0.58039216,\n",
              "         0.57647059, 0.57254902],\n",
              "        [0.57647059, 0.59607843, 0.61960784, ..., 0.57647059,\n",
              "         0.56862745, 0.56078431]],\n",
              "\n",
              "       [[0.64705882, 0.65882353, 0.67843137, ..., 0.36470588,\n",
              "         0.34901961, 0.34117647],\n",
              "        [0.62745098, 0.63921569, 0.6627451 , ..., 0.34901961,\n",
              "         0.3372549 , 0.32941176],\n",
              "        [0.6       , 0.61176471, 0.63529412, ..., 0.3254902 ,\n",
              "         0.31372549, 0.30588235],\n",
              "        ...,\n",
              "        [0.43529412, 0.44313725, 0.45490196, ..., 0.47843137,\n",
              "         0.47058824, 0.46666667],\n",
              "        [0.43529412, 0.43921569, 0.45098039, ..., 0.49019608,\n",
              "         0.47843137, 0.4745098 ],\n",
              "        [0.43137255, 0.43921569, 0.45098039, ..., 0.49803922,\n",
              "         0.48627451, 0.47843137]],\n",
              "\n",
              "       [[0.81568627, 0.80784314, 0.8       , ..., 0.72156863,\n",
              "         0.72941176, 0.73333333],\n",
              "        [0.81176471, 0.80784314, 0.8       , ..., 0.71372549,\n",
              "         0.72156863, 0.7254902 ],\n",
              "        [0.80784314, 0.80784314, 0.8       , ..., 0.70196078,\n",
              "         0.70980392, 0.70980392],\n",
              "        ...,\n",
              "        [0.82745098, 0.83137255, 0.83921569, ..., 0.87058824,\n",
              "         0.87058824, 0.87058824],\n",
              "        [0.82352941, 0.83137255, 0.83921569, ..., 0.86666667,\n",
              "         0.86666667, 0.86666667],\n",
              "        [0.82352941, 0.82745098, 0.83921569, ..., 0.86666667,\n",
              "         0.86666667, 0.86666667]],\n",
              "\n",
              "       ...,\n",
              "\n",
              "       [[0.56862745, 0.57254902, 0.57647059, ..., 0.56470588,\n",
              "         0.56470588, 0.56470588],\n",
              "        [0.56862745, 0.57254902, 0.58039216, ..., 0.56078431,\n",
              "         0.56078431, 0.56078431],\n",
              "        [0.57647059, 0.57647059, 0.58039216, ..., 0.55686275,\n",
              "         0.55686275, 0.55686275],\n",
              "        ...,\n",
              "        [0.52941176, 0.52941176, 0.52941176, ..., 0.52941176,\n",
              "         0.5254902 , 0.5254902 ],\n",
              "        [0.53333333, 0.53333333, 0.53333333, ..., 0.52941176,\n",
              "         0.5254902 , 0.52156863],\n",
              "        [0.53333333, 0.53333333, 0.53333333, ..., 0.52941176,\n",
              "         0.52156863, 0.52156863]],\n",
              "\n",
              "       [[0.71764706, 0.71764706, 0.71764706, ..., 0.77254902,\n",
              "         0.77254902, 0.77647059],\n",
              "        [0.7254902 , 0.7254902 , 0.7254902 , ..., 0.77254902,\n",
              "         0.77254902, 0.77647059],\n",
              "        [0.7372549 , 0.7372549 , 0.7372549 , ..., 0.77254902,\n",
              "         0.77254902, 0.77647059],\n",
              "        ...,\n",
              "        [0.82745098, 0.81960784, 0.81568627, ..., 0.8627451 ,\n",
              "         0.8627451 , 0.86666667],\n",
              "        [0.83137255, 0.82352941, 0.81568627, ..., 0.85882353,\n",
              "         0.85882353, 0.85882353],\n",
              "        [0.83529412, 0.82745098, 0.81960784, ..., 0.85490196,\n",
              "         0.85490196, 0.85490196]],\n",
              "\n",
              "       [[0.88627451, 0.88235294, 0.87843137, ..., 0.67058824,\n",
              "         0.65490196, 0.65098039],\n",
              "        [0.88627451, 0.88627451, 0.88235294, ..., 0.67058824,\n",
              "         0.6627451 , 0.65490196],\n",
              "        [0.89019608, 0.88627451, 0.88235294, ..., 0.67843137,\n",
              "         0.67058824, 0.6627451 ],\n",
              "        ...,\n",
              "        [0.72156863, 0.71764706, 0.70980392, ..., 0.78039216,\n",
              "         0.78823529, 0.79215686],\n",
              "        [0.7254902 , 0.71764706, 0.70980392, ..., 0.78431373,\n",
              "         0.78823529, 0.79215686],\n",
              "        [0.7254902 , 0.72156863, 0.70980392, ..., 0.78431373,\n",
              "         0.78823529, 0.79215686]]])"
            ]
          },
          "metadata": {},
          "execution_count": 125
        }
      ]
    },
    {
      "cell_type": "code",
      "source": [
        "X_test_norm = X_test_norm.reshape(2305, 100, 100, 1)n # Reshaping the data\n",
        "X_test_norm.shape"
      ],
      "metadata": {
        "id": "yF3ZCRA9F0wl",
        "colab": {
          "base_uri": "https://localhost:8080/"
        },
        "outputId": "d034e729-aac8-447c-ef03-2da810a11a7e"
      },
      "execution_count": null,
      "outputs": [
        {
          "output_type": "execute_result",
          "data": {
            "text/plain": [
              "(2305, 100, 100, 1)"
            ]
          },
          "metadata": {},
          "execution_count": 126
        }
      ]
    },
    {
      "cell_type": "markdown",
      "source": [
        "## Making Prediction on Test Dataset\n"
      ],
      "metadata": {
        "id": "Rp5eZrt2Qkyg"
      }
    },
    {
      "cell_type": "code",
      "source": [
        "# Predicting the values for the X_test\n",
        "y_test_pred = model_4.predict(X_test_norm)\n",
        "y_test_pred"
      ],
      "metadata": {
        "id": "XWc3qNEmBEkd",
        "colab": {
          "base_uri": "https://localhost:8080/"
        },
        "outputId": "16cc6a8f-79c9-431f-c6c9-33d6027b0443"
      },
      "execution_count": null,
      "outputs": [
        {
          "output_type": "stream",
          "name": "stdout",
          "text": [
            "73/73 [==============================] - 0s 4ms/step\n"
          ]
        },
        {
          "output_type": "execute_result",
          "data": {
            "text/plain": [
              "array([[0.00010052],\n",
              "       [0.00178963],\n",
              "       [0.05614087],\n",
              "       ...,\n",
              "       [0.00458177],\n",
              "       [0.00055945],\n",
              "       [0.03028252]], dtype=float32)"
            ]
          },
          "metadata": {},
          "execution_count": 127
        }
      ]
    },
    {
      "cell_type": "code",
      "source": [
        "# Converting values to integer format\n",
        "y_test_predict = (np.rint(y_test_pred)).astype(int)\n",
        "y_test_predict"
      ],
      "metadata": {
        "colab": {
          "base_uri": "https://localhost:8080/"
        },
        "id": "J5Cdntqs2OtM",
        "outputId": "ec4f799f-5e3b-419b-9786-9b475439099e"
      },
      "execution_count": null,
      "outputs": [
        {
          "output_type": "execute_result",
          "data": {
            "text/plain": [
              "array([[0],\n",
              "       [0],\n",
              "       [0],\n",
              "       ...,\n",
              "       [0],\n",
              "       [0],\n",
              "       [0]])"
            ]
          },
          "metadata": {},
          "execution_count": 128
        }
      ]
    },
    {
      "cell_type": "code",
      "source": [
        "predictions = pd.DataFrame(y_test_predict)\n",
        "predictions"
      ],
      "metadata": {
        "colab": {
          "base_uri": "https://localhost:8080/",
          "height": 424
        },
        "id": "emuE36j7cQP3",
        "outputId": "d1f50186-ee32-447d-daa6-6f42a616f60b"
      },
      "execution_count": null,
      "outputs": [
        {
          "output_type": "execute_result",
          "data": {
            "text/plain": [
              "      0\n",
              "0     0\n",
              "1     0\n",
              "2     0\n",
              "3     0\n",
              "4     0\n",
              "...  ..\n",
              "2300  1\n",
              "2301  1\n",
              "2302  0\n",
              "2303  0\n",
              "2304  0\n",
              "\n",
              "[2305 rows x 1 columns]"
            ],
            "text/html": [
              "\n",
              "  <div id=\"df-7a75969f-0c22-4bfb-9942-05f440de3f8d\">\n",
              "    <div class=\"colab-df-container\">\n",
              "      <div>\n",
              "<style scoped>\n",
              "    .dataframe tbody tr th:only-of-type {\n",
              "        vertical-align: middle;\n",
              "    }\n",
              "\n",
              "    .dataframe tbody tr th {\n",
              "        vertical-align: top;\n",
              "    }\n",
              "\n",
              "    .dataframe thead th {\n",
              "        text-align: right;\n",
              "    }\n",
              "</style>\n",
              "<table border=\"1\" class=\"dataframe\">\n",
              "  <thead>\n",
              "    <tr style=\"text-align: right;\">\n",
              "      <th></th>\n",
              "      <th>0</th>\n",
              "    </tr>\n",
              "  </thead>\n",
              "  <tbody>\n",
              "    <tr>\n",
              "      <th>0</th>\n",
              "      <td>0</td>\n",
              "    </tr>\n",
              "    <tr>\n",
              "      <th>1</th>\n",
              "      <td>0</td>\n",
              "    </tr>\n",
              "    <tr>\n",
              "      <th>2</th>\n",
              "      <td>0</td>\n",
              "    </tr>\n",
              "    <tr>\n",
              "      <th>3</th>\n",
              "      <td>0</td>\n",
              "    </tr>\n",
              "    <tr>\n",
              "      <th>4</th>\n",
              "      <td>0</td>\n",
              "    </tr>\n",
              "    <tr>\n",
              "      <th>...</th>\n",
              "      <td>...</td>\n",
              "    </tr>\n",
              "    <tr>\n",
              "      <th>2300</th>\n",
              "      <td>1</td>\n",
              "    </tr>\n",
              "    <tr>\n",
              "      <th>2301</th>\n",
              "      <td>1</td>\n",
              "    </tr>\n",
              "    <tr>\n",
              "      <th>2302</th>\n",
              "      <td>0</td>\n",
              "    </tr>\n",
              "    <tr>\n",
              "      <th>2303</th>\n",
              "      <td>0</td>\n",
              "    </tr>\n",
              "    <tr>\n",
              "      <th>2304</th>\n",
              "      <td>0</td>\n",
              "    </tr>\n",
              "  </tbody>\n",
              "</table>\n",
              "<p>2305 rows × 1 columns</p>\n",
              "</div>\n",
              "      <button class=\"colab-df-convert\" onclick=\"convertToInteractive('df-7a75969f-0c22-4bfb-9942-05f440de3f8d')\"\n",
              "              title=\"Convert this dataframe to an interactive table.\"\n",
              "              style=\"display:none;\">\n",
              "        \n",
              "  <svg xmlns=\"http://www.w3.org/2000/svg\" height=\"24px\"viewBox=\"0 0 24 24\"\n",
              "       width=\"24px\">\n",
              "    <path d=\"M0 0h24v24H0V0z\" fill=\"none\"/>\n",
              "    <path d=\"M18.56 5.44l.94 2.06.94-2.06 2.06-.94-2.06-.94-.94-2.06-.94 2.06-2.06.94zm-11 1L8.5 8.5l.94-2.06 2.06-.94-2.06-.94L8.5 2.5l-.94 2.06-2.06.94zm10 10l.94 2.06.94-2.06 2.06-.94-2.06-.94-.94-2.06-.94 2.06-2.06.94z\"/><path d=\"M17.41 7.96l-1.37-1.37c-.4-.4-.92-.59-1.43-.59-.52 0-1.04.2-1.43.59L10.3 9.45l-7.72 7.72c-.78.78-.78 2.05 0 2.83L4 21.41c.39.39.9.59 1.41.59.51 0 1.02-.2 1.41-.59l7.78-7.78 2.81-2.81c.8-.78.8-2.07 0-2.86zM5.41 20L4 18.59l7.72-7.72 1.47 1.35L5.41 20z\"/>\n",
              "  </svg>\n",
              "      </button>\n",
              "      \n",
              "  <style>\n",
              "    .colab-df-container {\n",
              "      display:flex;\n",
              "      flex-wrap:wrap;\n",
              "      gap: 12px;\n",
              "    }\n",
              "\n",
              "    .colab-df-convert {\n",
              "      background-color: #E8F0FE;\n",
              "      border: none;\n",
              "      border-radius: 50%;\n",
              "      cursor: pointer;\n",
              "      display: none;\n",
              "      fill: #1967D2;\n",
              "      height: 32px;\n",
              "      padding: 0 0 0 0;\n",
              "      width: 32px;\n",
              "    }\n",
              "\n",
              "    .colab-df-convert:hover {\n",
              "      background-color: #E2EBFA;\n",
              "      box-shadow: 0px 1px 2px rgba(60, 64, 67, 0.3), 0px 1px 3px 1px rgba(60, 64, 67, 0.15);\n",
              "      fill: #174EA6;\n",
              "    }\n",
              "\n",
              "    [theme=dark] .colab-df-convert {\n",
              "      background-color: #3B4455;\n",
              "      fill: #D2E3FC;\n",
              "    }\n",
              "\n",
              "    [theme=dark] .colab-df-convert:hover {\n",
              "      background-color: #434B5C;\n",
              "      box-shadow: 0px 1px 3px 1px rgba(0, 0, 0, 0.15);\n",
              "      filter: drop-shadow(0px 1px 2px rgba(0, 0, 0, 0.3));\n",
              "      fill: #FFFFFF;\n",
              "    }\n",
              "  </style>\n",
              "\n",
              "      <script>\n",
              "        const buttonEl =\n",
              "          document.querySelector('#df-7a75969f-0c22-4bfb-9942-05f440de3f8d button.colab-df-convert');\n",
              "        buttonEl.style.display =\n",
              "          google.colab.kernel.accessAllowed ? 'block' : 'none';\n",
              "\n",
              "        async function convertToInteractive(key) {\n",
              "          const element = document.querySelector('#df-7a75969f-0c22-4bfb-9942-05f440de3f8d');\n",
              "          const dataTable =\n",
              "            await google.colab.kernel.invokeFunction('convertToInteractive',\n",
              "                                                     [key], {});\n",
              "          if (!dataTable) return;\n",
              "\n",
              "          const docLinkHtml = 'Like what you see? Visit the ' +\n",
              "            '<a target=\"_blank\" href=https://colab.research.google.com/notebooks/data_table.ipynb>data table notebook</a>'\n",
              "            + ' to learn more about interactive tables.';\n",
              "          element.innerHTML = '';\n",
              "          dataTable['output_type'] = 'display_data';\n",
              "          await google.colab.output.renderOutput(dataTable, element);\n",
              "          const docLink = document.createElement('div');\n",
              "          docLink.innerHTML = docLinkHtml;\n",
              "          element.appendChild(docLink);\n",
              "        }\n",
              "      </script>\n",
              "    </div>\n",
              "  </div>\n",
              "  "
            ]
          },
          "metadata": {},
          "execution_count": 129
        }
      ]
    },
    {
      "cell_type": "code",
      "source": [
        "predictions.value_counts()"
      ],
      "metadata": {
        "colab": {
          "base_uri": "https://localhost:8080/"
        },
        "id": "UAyEmwZH4Cp3",
        "outputId": "11fafb98-20bd-476e-b73a-a263873c7822"
      },
      "execution_count": null,
      "outputs": [
        {
          "output_type": "execute_result",
          "data": {
            "text/plain": [
              "0    1230\n",
              "1    1075\n",
              "dtype: int64"
            ]
          },
          "metadata": {},
          "execution_count": 130
        }
      ]
    },
    {
      "cell_type": "code",
      "source": [
        "# Creating a new column to transform the categorical output in numerical values (male = 0 female = 1)\n",
        "predictions['label'] = predictions[0].apply(lambda x: 'female' if x == 1 else 'male')\n",
        "predictions"
      ],
      "metadata": {
        "colab": {
          "base_uri": "https://localhost:8080/",
          "height": 424
        },
        "id": "azmbf_mswQkw",
        "outputId": "5b530663-042a-4233-b7bc-9b8fce2d9a6d"
      },
      "execution_count": null,
      "outputs": [
        {
          "output_type": "execute_result",
          "data": {
            "text/plain": [
              "      0   label\n",
              "0     0    male\n",
              "1     0    male\n",
              "2     0    male\n",
              "3     0    male\n",
              "4     0    male\n",
              "...  ..     ...\n",
              "2300  1  female\n",
              "2301  1  female\n",
              "2302  0    male\n",
              "2303  0    male\n",
              "2304  0    male\n",
              "\n",
              "[2305 rows x 2 columns]"
            ],
            "text/html": [
              "\n",
              "  <div id=\"df-20f0b899-b7db-4074-b467-2238a8cd79c9\">\n",
              "    <div class=\"colab-df-container\">\n",
              "      <div>\n",
              "<style scoped>\n",
              "    .dataframe tbody tr th:only-of-type {\n",
              "        vertical-align: middle;\n",
              "    }\n",
              "\n",
              "    .dataframe tbody tr th {\n",
              "        vertical-align: top;\n",
              "    }\n",
              "\n",
              "    .dataframe thead th {\n",
              "        text-align: right;\n",
              "    }\n",
              "</style>\n",
              "<table border=\"1\" class=\"dataframe\">\n",
              "  <thead>\n",
              "    <tr style=\"text-align: right;\">\n",
              "      <th></th>\n",
              "      <th>0</th>\n",
              "      <th>label</th>\n",
              "    </tr>\n",
              "  </thead>\n",
              "  <tbody>\n",
              "    <tr>\n",
              "      <th>0</th>\n",
              "      <td>0</td>\n",
              "      <td>male</td>\n",
              "    </tr>\n",
              "    <tr>\n",
              "      <th>1</th>\n",
              "      <td>0</td>\n",
              "      <td>male</td>\n",
              "    </tr>\n",
              "    <tr>\n",
              "      <th>2</th>\n",
              "      <td>0</td>\n",
              "      <td>male</td>\n",
              "    </tr>\n",
              "    <tr>\n",
              "      <th>3</th>\n",
              "      <td>0</td>\n",
              "      <td>male</td>\n",
              "    </tr>\n",
              "    <tr>\n",
              "      <th>4</th>\n",
              "      <td>0</td>\n",
              "      <td>male</td>\n",
              "    </tr>\n",
              "    <tr>\n",
              "      <th>...</th>\n",
              "      <td>...</td>\n",
              "      <td>...</td>\n",
              "    </tr>\n",
              "    <tr>\n",
              "      <th>2300</th>\n",
              "      <td>1</td>\n",
              "      <td>female</td>\n",
              "    </tr>\n",
              "    <tr>\n",
              "      <th>2301</th>\n",
              "      <td>1</td>\n",
              "      <td>female</td>\n",
              "    </tr>\n",
              "    <tr>\n",
              "      <th>2302</th>\n",
              "      <td>0</td>\n",
              "      <td>male</td>\n",
              "    </tr>\n",
              "    <tr>\n",
              "      <th>2303</th>\n",
              "      <td>0</td>\n",
              "      <td>male</td>\n",
              "    </tr>\n",
              "    <tr>\n",
              "      <th>2304</th>\n",
              "      <td>0</td>\n",
              "      <td>male</td>\n",
              "    </tr>\n",
              "  </tbody>\n",
              "</table>\n",
              "<p>2305 rows × 2 columns</p>\n",
              "</div>\n",
              "      <button class=\"colab-df-convert\" onclick=\"convertToInteractive('df-20f0b899-b7db-4074-b467-2238a8cd79c9')\"\n",
              "              title=\"Convert this dataframe to an interactive table.\"\n",
              "              style=\"display:none;\">\n",
              "        \n",
              "  <svg xmlns=\"http://www.w3.org/2000/svg\" height=\"24px\"viewBox=\"0 0 24 24\"\n",
              "       width=\"24px\">\n",
              "    <path d=\"M0 0h24v24H0V0z\" fill=\"none\"/>\n",
              "    <path d=\"M18.56 5.44l.94 2.06.94-2.06 2.06-.94-2.06-.94-.94-2.06-.94 2.06-2.06.94zm-11 1L8.5 8.5l.94-2.06 2.06-.94-2.06-.94L8.5 2.5l-.94 2.06-2.06.94zm10 10l.94 2.06.94-2.06 2.06-.94-2.06-.94-.94-2.06-.94 2.06-2.06.94z\"/><path d=\"M17.41 7.96l-1.37-1.37c-.4-.4-.92-.59-1.43-.59-.52 0-1.04.2-1.43.59L10.3 9.45l-7.72 7.72c-.78.78-.78 2.05 0 2.83L4 21.41c.39.39.9.59 1.41.59.51 0 1.02-.2 1.41-.59l7.78-7.78 2.81-2.81c.8-.78.8-2.07 0-2.86zM5.41 20L4 18.59l7.72-7.72 1.47 1.35L5.41 20z\"/>\n",
              "  </svg>\n",
              "      </button>\n",
              "      \n",
              "  <style>\n",
              "    .colab-df-container {\n",
              "      display:flex;\n",
              "      flex-wrap:wrap;\n",
              "      gap: 12px;\n",
              "    }\n",
              "\n",
              "    .colab-df-convert {\n",
              "      background-color: #E8F0FE;\n",
              "      border: none;\n",
              "      border-radius: 50%;\n",
              "      cursor: pointer;\n",
              "      display: none;\n",
              "      fill: #1967D2;\n",
              "      height: 32px;\n",
              "      padding: 0 0 0 0;\n",
              "      width: 32px;\n",
              "    }\n",
              "\n",
              "    .colab-df-convert:hover {\n",
              "      background-color: #E2EBFA;\n",
              "      box-shadow: 0px 1px 2px rgba(60, 64, 67, 0.3), 0px 1px 3px 1px rgba(60, 64, 67, 0.15);\n",
              "      fill: #174EA6;\n",
              "    }\n",
              "\n",
              "    [theme=dark] .colab-df-convert {\n",
              "      background-color: #3B4455;\n",
              "      fill: #D2E3FC;\n",
              "    }\n",
              "\n",
              "    [theme=dark] .colab-df-convert:hover {\n",
              "      background-color: #434B5C;\n",
              "      box-shadow: 0px 1px 3px 1px rgba(0, 0, 0, 0.15);\n",
              "      filter: drop-shadow(0px 1px 2px rgba(0, 0, 0, 0.3));\n",
              "      fill: #FFFFFF;\n",
              "    }\n",
              "  </style>\n",
              "\n",
              "      <script>\n",
              "        const buttonEl =\n",
              "          document.querySelector('#df-20f0b899-b7db-4074-b467-2238a8cd79c9 button.colab-df-convert');\n",
              "        buttonEl.style.display =\n",
              "          google.colab.kernel.accessAllowed ? 'block' : 'none';\n",
              "\n",
              "        async function convertToInteractive(key) {\n",
              "          const element = document.querySelector('#df-20f0b899-b7db-4074-b467-2238a8cd79c9');\n",
              "          const dataTable =\n",
              "            await google.colab.kernel.invokeFunction('convertToInteractive',\n",
              "                                                     [key], {});\n",
              "          if (!dataTable) return;\n",
              "\n",
              "          const docLinkHtml = 'Like what you see? Visit the ' +\n",
              "            '<a target=\"_blank\" href=https://colab.research.google.com/notebooks/data_table.ipynb>data table notebook</a>'\n",
              "            + ' to learn more about interactive tables.';\n",
              "          element.innerHTML = '';\n",
              "          dataTable['output_type'] = 'display_data';\n",
              "          await google.colab.output.renderOutput(dataTable, element);\n",
              "          const docLink = document.createElement('div');\n",
              "          docLink.innerHTML = docLinkHtml;\n",
              "          element.appendChild(docLink);\n",
              "        }\n",
              "      </script>\n",
              "    </div>\n",
              "  </div>\n",
              "  "
            ]
          },
          "metadata": {},
          "execution_count": 131
        }
      ]
    },
    {
      "cell_type": "code",
      "source": [
        "test_predictions = predictions.drop(0, axis = 1)\n",
        "test_predictions"
      ],
      "metadata": {
        "colab": {
          "base_uri": "https://localhost:8080/",
          "height": 424
        },
        "id": "UnDeELflxt9Z",
        "outputId": "ef0b170e-9af4-4a35-b320-7705559f8107"
      },
      "execution_count": null,
      "outputs": [
        {
          "output_type": "execute_result",
          "data": {
            "text/plain": [
              "       label\n",
              "0       male\n",
              "1       male\n",
              "2       male\n",
              "3       male\n",
              "4       male\n",
              "...      ...\n",
              "2300  female\n",
              "2301  female\n",
              "2302    male\n",
              "2303    male\n",
              "2304    male\n",
              "\n",
              "[2305 rows x 1 columns]"
            ],
            "text/html": [
              "\n",
              "  <div id=\"df-7a3661a8-cd00-4e81-8983-dc7aae578a3f\">\n",
              "    <div class=\"colab-df-container\">\n",
              "      <div>\n",
              "<style scoped>\n",
              "    .dataframe tbody tr th:only-of-type {\n",
              "        vertical-align: middle;\n",
              "    }\n",
              "\n",
              "    .dataframe tbody tr th {\n",
              "        vertical-align: top;\n",
              "    }\n",
              "\n",
              "    .dataframe thead th {\n",
              "        text-align: right;\n",
              "    }\n",
              "</style>\n",
              "<table border=\"1\" class=\"dataframe\">\n",
              "  <thead>\n",
              "    <tr style=\"text-align: right;\">\n",
              "      <th></th>\n",
              "      <th>label</th>\n",
              "    </tr>\n",
              "  </thead>\n",
              "  <tbody>\n",
              "    <tr>\n",
              "      <th>0</th>\n",
              "      <td>male</td>\n",
              "    </tr>\n",
              "    <tr>\n",
              "      <th>1</th>\n",
              "      <td>male</td>\n",
              "    </tr>\n",
              "    <tr>\n",
              "      <th>2</th>\n",
              "      <td>male</td>\n",
              "    </tr>\n",
              "    <tr>\n",
              "      <th>3</th>\n",
              "      <td>male</td>\n",
              "    </tr>\n",
              "    <tr>\n",
              "      <th>4</th>\n",
              "      <td>male</td>\n",
              "    </tr>\n",
              "    <tr>\n",
              "      <th>...</th>\n",
              "      <td>...</td>\n",
              "    </tr>\n",
              "    <tr>\n",
              "      <th>2300</th>\n",
              "      <td>female</td>\n",
              "    </tr>\n",
              "    <tr>\n",
              "      <th>2301</th>\n",
              "      <td>female</td>\n",
              "    </tr>\n",
              "    <tr>\n",
              "      <th>2302</th>\n",
              "      <td>male</td>\n",
              "    </tr>\n",
              "    <tr>\n",
              "      <th>2303</th>\n",
              "      <td>male</td>\n",
              "    </tr>\n",
              "    <tr>\n",
              "      <th>2304</th>\n",
              "      <td>male</td>\n",
              "    </tr>\n",
              "  </tbody>\n",
              "</table>\n",
              "<p>2305 rows × 1 columns</p>\n",
              "</div>\n",
              "      <button class=\"colab-df-convert\" onclick=\"convertToInteractive('df-7a3661a8-cd00-4e81-8983-dc7aae578a3f')\"\n",
              "              title=\"Convert this dataframe to an interactive table.\"\n",
              "              style=\"display:none;\">\n",
              "        \n",
              "  <svg xmlns=\"http://www.w3.org/2000/svg\" height=\"24px\"viewBox=\"0 0 24 24\"\n",
              "       width=\"24px\">\n",
              "    <path d=\"M0 0h24v24H0V0z\" fill=\"none\"/>\n",
              "    <path d=\"M18.56 5.44l.94 2.06.94-2.06 2.06-.94-2.06-.94-.94-2.06-.94 2.06-2.06.94zm-11 1L8.5 8.5l.94-2.06 2.06-.94-2.06-.94L8.5 2.5l-.94 2.06-2.06.94zm10 10l.94 2.06.94-2.06 2.06-.94-2.06-.94-.94-2.06-.94 2.06-2.06.94z\"/><path d=\"M17.41 7.96l-1.37-1.37c-.4-.4-.92-.59-1.43-.59-.52 0-1.04.2-1.43.59L10.3 9.45l-7.72 7.72c-.78.78-.78 2.05 0 2.83L4 21.41c.39.39.9.59 1.41.59.51 0 1.02-.2 1.41-.59l7.78-7.78 2.81-2.81c.8-.78.8-2.07 0-2.86zM5.41 20L4 18.59l7.72-7.72 1.47 1.35L5.41 20z\"/>\n",
              "  </svg>\n",
              "      </button>\n",
              "      \n",
              "  <style>\n",
              "    .colab-df-container {\n",
              "      display:flex;\n",
              "      flex-wrap:wrap;\n",
              "      gap: 12px;\n",
              "    }\n",
              "\n",
              "    .colab-df-convert {\n",
              "      background-color: #E8F0FE;\n",
              "      border: none;\n",
              "      border-radius: 50%;\n",
              "      cursor: pointer;\n",
              "      display: none;\n",
              "      fill: #1967D2;\n",
              "      height: 32px;\n",
              "      padding: 0 0 0 0;\n",
              "      width: 32px;\n",
              "    }\n",
              "\n",
              "    .colab-df-convert:hover {\n",
              "      background-color: #E2EBFA;\n",
              "      box-shadow: 0px 1px 2px rgba(60, 64, 67, 0.3), 0px 1px 3px 1px rgba(60, 64, 67, 0.15);\n",
              "      fill: #174EA6;\n",
              "    }\n",
              "\n",
              "    [theme=dark] .colab-df-convert {\n",
              "      background-color: #3B4455;\n",
              "      fill: #D2E3FC;\n",
              "    }\n",
              "\n",
              "    [theme=dark] .colab-df-convert:hover {\n",
              "      background-color: #434B5C;\n",
              "      box-shadow: 0px 1px 3px 1px rgba(0, 0, 0, 0.15);\n",
              "      filter: drop-shadow(0px 1px 2px rgba(0, 0, 0, 0.3));\n",
              "      fill: #FFFFFF;\n",
              "    }\n",
              "  </style>\n",
              "\n",
              "      <script>\n",
              "        const buttonEl =\n",
              "          document.querySelector('#df-7a3661a8-cd00-4e81-8983-dc7aae578a3f button.colab-df-convert');\n",
              "        buttonEl.style.display =\n",
              "          google.colab.kernel.accessAllowed ? 'block' : 'none';\n",
              "\n",
              "        async function convertToInteractive(key) {\n",
              "          const element = document.querySelector('#df-7a3661a8-cd00-4e81-8983-dc7aae578a3f');\n",
              "          const dataTable =\n",
              "            await google.colab.kernel.invokeFunction('convertToInteractive',\n",
              "                                                     [key], {});\n",
              "          if (!dataTable) return;\n",
              "\n",
              "          const docLinkHtml = 'Like what you see? Visit the ' +\n",
              "            '<a target=\"_blank\" href=https://colab.research.google.com/notebooks/data_table.ipynb>data table notebook</a>'\n",
              "            + ' to learn more about interactive tables.';\n",
              "          element.innerHTML = '';\n",
              "          dataTable['output_type'] = 'display_data';\n",
              "          await google.colab.output.renderOutput(dataTable, element);\n",
              "          const docLink = document.createElement('div');\n",
              "          docLink.innerHTML = docLinkHtml;\n",
              "          element.appendChild(docLink);\n",
              "        }\n",
              "      </script>\n",
              "    </div>\n",
              "  </div>\n",
              "  "
            ]
          },
          "metadata": {},
          "execution_count": 132
        }
      ]
    },
    {
      "cell_type": "markdown",
      "source": [
        "## Saving the Test predictions locally via colab notebook\n"
      ],
      "metadata": {
        "id": "WcNz_BXNQr-B"
      }
    },
    {
      "cell_type": "code",
      "source": [
        "test_predictions.to_csv(\"/content/drive/MyDrive/submission.csv\", index = False) "
      ],
      "metadata": {
        "id": "QZ-jCLNsQj6m"
      },
      "execution_count": null,
      "outputs": []
    },
    {
      "cell_type": "markdown",
      "source": [
        "![Captura de tela_20230210_164131.png](data:image/png;base64,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)"
      ],
      "metadata": {
        "id": "7R7_hbkH2A9A"
      }
    }
  ]
}